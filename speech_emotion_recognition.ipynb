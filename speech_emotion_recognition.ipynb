{
  "nbformat": 4,
  "nbformat_minor": 0,
  "metadata": {
    "colab": {
      "name": "speech_emotion_recognition.ipynb",
      "provenance": [],
      "collapsed_sections": [
        "pB13AFgKcqF6"
      ],
      "include_colab_link": true
    },
    "kernelspec": {
      "name": "python3",
      "display_name": "Python 3"
    },
    "language_info": {
      "name": "python"
    },
    "accelerator": "GPU"
  },
  "cells": [
    {
      "cell_type": "markdown",
      "metadata": {
        "id": "view-in-github",
        "colab_type": "text"
      },
      "source": [
        "<a href=\"https://colab.research.google.com/github/Sahanaka/SER-EE7209_G14/blob/main/speech_emotion_recognition.ipynb\" target=\"_parent\"><img src=\"https://colab.research.google.com/assets/colab-badge.svg\" alt=\"Open In Colab\"/></a>"
      ]
    },
    {
      "cell_type": "markdown",
      "metadata": {
        "id": "IU0ZlKOQcRG-"
      },
      "source": [
        "# **Speech Emotion Recognition**\n",
        "In this notebook we will experiment SER on a small subset of RAVDESS dataset."
      ]
    },
    {
      "cell_type": "markdown",
      "metadata": {
        "id": "alqgxcjlcrDZ"
      },
      "source": [
        "## **Setup**"
      ]
    },
    {
      "cell_type": "markdown",
      "metadata": {
        "id": "Nsp_8y9fcnQ7"
      },
      "source": [
        "## **Imports**"
      ]
    },
    {
      "cell_type": "code",
      "metadata": {
        "id": "vKApfQjcbVfe"
      },
      "source": [
        "import librosa\n",
        "%matplotlib inline\n",
        "import matplotlib.pyplot as plt\n",
        "import librosa.display\n",
        "from IPython.display import Audio\n",
        "import numpy as np\n",
        "import tensorflow as tf\n",
        "from tensorflow import keras\n",
        "from matplotlib.pyplot import specgram\n",
        "import pandas as pd\n",
        "from sklearn.metrics import confusion_matrix\n",
        "import IPython.display as ipd  # To play sound in the notebook\n",
        "import os # interface with underlying OS that python is running on\n",
        "import sys\n",
        "import warnings\n",
        "# ignore warnings \n",
        "if not sys.warnoptions:\n",
        "    warnings.simplefilter(\"ignore\")\n",
        "warnings.filterwarnings(\"ignore\", category=DeprecationWarning)\n",
        "from sklearn.model_selection import train_test_split\n",
        "from sklearn.preprocessing import LabelEncoder\n",
        "import tensorflow.keras\n",
        "from tensorflow.keras.models import Sequential\n",
        "from tensorflow.keras.layers import Conv1D, MaxPooling1D, AveragePooling1D\n",
        "from tensorflow.keras.layers import Input, Flatten, Dropout, Activation, BatchNormalization, Dense\n",
        "from sklearn.model_selection import GridSearchCV\n",
        "from tensorflow.keras.wrappers.scikit_learn import KerasClassifier\n",
        "from tensorflow.keras.optimizers import SGD\n",
        "from tensorflow.keras.regularizers import l2\n",
        "import seaborn as sns\n",
        "from tensorflow.keras.callbacks import EarlyStopping, ModelCheckpoint\n",
        "from tensorflow.keras.utils import to_categorical\n",
        "from sklearn.metrics import confusion_matrix, classification_report, accuracy_score"
      ],
      "execution_count": 48,
      "outputs": []
    },
    {
      "cell_type": "markdown",
      "metadata": {
        "id": "DSltMR9sllUP"
      },
      "source": [
        "## **Data Preparation**"
      ]
    },
    {
      "cell_type": "markdown",
      "metadata": {
        "id": "hCQ-md6Zna-_"
      },
      "source": [
        "### Feature Loading"
      ]
    },
    {
      "cell_type": "code",
      "metadata": {
        "id": "0eoB4cTw_Jej"
      },
      "source": [
        "# LOAD THE DATA FRAME FROM CSV\n",
        "\n",
        "# NOTE: PLEASE UNCOMMENT ONE AT A TIME TO LOAD THE RELEVENT DATA FRAME\n",
        "\n",
        "df_combined = pd.read_csv('https://raw.githubusercontent.com/Sahanaka/SER-EE7209_G14/main/Features/combined_extracted_features.csv')\n",
        "# df_combined = pd.read_csv('https://raw.githubusercontent.com/Sahanaka/SER-EE7209_G14/main/Features/mfcc.csv')\n",
        "# df_combined = pd.read_csv('https://raw.githubusercontent.com/Sahanaka/SER-EE7209_G14/main/Features/mel_spectogram.csv')\n",
        "# df_combined = pd.read_csv('https://raw.githubusercontent.com/Sahanaka/SER-EE7209_G14/main/Features/contrast.csv')\n",
        "# df_combined = pd.read_csv('https://raw.githubusercontent.com/Sahanaka/SER-EE7209_G14/main/Features/chroma.csv')\n",
        "# df_combined = pd.read_csv('https://raw.githubusercontent.com/Sahanaka/SER-EE7209_G14/main/Features/zcr.csv')"
      ],
      "execution_count": 2,
      "outputs": []
    },
    {
      "cell_type": "code",
      "metadata": {
        "id": "cAnqnGFapOrk",
        "colab": {
          "base_uri": "https://localhost:8080/",
          "height": 317
        },
        "outputId": "d6a1506b-6ddd-45f0-b19b-02149aab76e2"
      },
      "source": [
        "df_combined.drop(columns='path', inplace=True)\n",
        "df_combined.head()"
      ],
      "execution_count": 3,
      "outputs": [
        {
          "output_type": "execute_result",
          "data": {
            "text/plain": [
              "   Unnamed: 0  emotion  actor          0          1         2          3  \\\n",
              "0           0  neutral      1 -696.20105  78.316574  3.646741  13.573399   \n",
              "1           1  neutral      1 -686.31300  78.732320  0.704220  14.193933   \n",
              "2           2  neutral      1 -690.26385  80.471260  3.066295  13.347497   \n",
              "3           3  neutral      1 -688.70215  78.576100  5.858980  15.703995   \n",
              "4           4     calm      1 -727.78330  87.151090  5.981501  16.521162   \n",
              "\n",
              "          4          5         6  ...     249.3     250.3     251.3     252.3  \\\n",
              "0  7.353319  14.752226 -4.387536  ...  0.000000  0.000000  0.000000  0.000000   \n",
              "1  9.702352  14.567476 -5.940362  ...  0.000000  0.000000  0.000000  0.000000   \n",
              "2  6.988072  11.344915 -4.785039  ...  0.000000  0.000000  0.000000  0.000000   \n",
              "3  7.521081  13.692708 -3.470273  ...  0.000000  0.000000  0.000000  0.000000   \n",
              "4  7.651807  15.974822 -4.892543  ...  0.070312  0.121094  0.192383  0.204102   \n",
              "\n",
              "      253.3     254.3     255.3     256.3     257.3     258.3  \n",
              "0  0.000000  0.000000  0.000000  0.000000  0.000000  0.000000  \n",
              "1  0.000000  0.000000  0.000000  0.000000  0.000000  0.000000  \n",
              "2  0.000000  0.000000  0.000000  0.000000  0.000000  0.000000  \n",
              "3  0.000000  0.000000  0.000000  0.000000  0.000000  0.000000  \n",
              "4  0.260254  0.184082  0.202148  0.203125  0.133789  0.101562  \n",
              "\n",
              "[5 rows x 1052 columns]"
            ],
            "text/html": [
              "\n",
              "  <div id=\"df-e60be17c-a346-4bed-a9d6-6767e4609728\">\n",
              "    <div class=\"colab-df-container\">\n",
              "      <div>\n",
              "<style scoped>\n",
              "    .dataframe tbody tr th:only-of-type {\n",
              "        vertical-align: middle;\n",
              "    }\n",
              "\n",
              "    .dataframe tbody tr th {\n",
              "        vertical-align: top;\n",
              "    }\n",
              "\n",
              "    .dataframe thead th {\n",
              "        text-align: right;\n",
              "    }\n",
              "</style>\n",
              "<table border=\"1\" class=\"dataframe\">\n",
              "  <thead>\n",
              "    <tr style=\"text-align: right;\">\n",
              "      <th></th>\n",
              "      <th>Unnamed: 0</th>\n",
              "      <th>emotion</th>\n",
              "      <th>actor</th>\n",
              "      <th>0</th>\n",
              "      <th>1</th>\n",
              "      <th>2</th>\n",
              "      <th>3</th>\n",
              "      <th>4</th>\n",
              "      <th>5</th>\n",
              "      <th>6</th>\n",
              "      <th>...</th>\n",
              "      <th>249.3</th>\n",
              "      <th>250.3</th>\n",
              "      <th>251.3</th>\n",
              "      <th>252.3</th>\n",
              "      <th>253.3</th>\n",
              "      <th>254.3</th>\n",
              "      <th>255.3</th>\n",
              "      <th>256.3</th>\n",
              "      <th>257.3</th>\n",
              "      <th>258.3</th>\n",
              "    </tr>\n",
              "  </thead>\n",
              "  <tbody>\n",
              "    <tr>\n",
              "      <th>0</th>\n",
              "      <td>0</td>\n",
              "      <td>neutral</td>\n",
              "      <td>1</td>\n",
              "      <td>-696.20105</td>\n",
              "      <td>78.316574</td>\n",
              "      <td>3.646741</td>\n",
              "      <td>13.573399</td>\n",
              "      <td>7.353319</td>\n",
              "      <td>14.752226</td>\n",
              "      <td>-4.387536</td>\n",
              "      <td>...</td>\n",
              "      <td>0.000000</td>\n",
              "      <td>0.000000</td>\n",
              "      <td>0.000000</td>\n",
              "      <td>0.000000</td>\n",
              "      <td>0.000000</td>\n",
              "      <td>0.000000</td>\n",
              "      <td>0.000000</td>\n",
              "      <td>0.000000</td>\n",
              "      <td>0.000000</td>\n",
              "      <td>0.000000</td>\n",
              "    </tr>\n",
              "    <tr>\n",
              "      <th>1</th>\n",
              "      <td>1</td>\n",
              "      <td>neutral</td>\n",
              "      <td>1</td>\n",
              "      <td>-686.31300</td>\n",
              "      <td>78.732320</td>\n",
              "      <td>0.704220</td>\n",
              "      <td>14.193933</td>\n",
              "      <td>9.702352</td>\n",
              "      <td>14.567476</td>\n",
              "      <td>-5.940362</td>\n",
              "      <td>...</td>\n",
              "      <td>0.000000</td>\n",
              "      <td>0.000000</td>\n",
              "      <td>0.000000</td>\n",
              "      <td>0.000000</td>\n",
              "      <td>0.000000</td>\n",
              "      <td>0.000000</td>\n",
              "      <td>0.000000</td>\n",
              "      <td>0.000000</td>\n",
              "      <td>0.000000</td>\n",
              "      <td>0.000000</td>\n",
              "    </tr>\n",
              "    <tr>\n",
              "      <th>2</th>\n",
              "      <td>2</td>\n",
              "      <td>neutral</td>\n",
              "      <td>1</td>\n",
              "      <td>-690.26385</td>\n",
              "      <td>80.471260</td>\n",
              "      <td>3.066295</td>\n",
              "      <td>13.347497</td>\n",
              "      <td>6.988072</td>\n",
              "      <td>11.344915</td>\n",
              "      <td>-4.785039</td>\n",
              "      <td>...</td>\n",
              "      <td>0.000000</td>\n",
              "      <td>0.000000</td>\n",
              "      <td>0.000000</td>\n",
              "      <td>0.000000</td>\n",
              "      <td>0.000000</td>\n",
              "      <td>0.000000</td>\n",
              "      <td>0.000000</td>\n",
              "      <td>0.000000</td>\n",
              "      <td>0.000000</td>\n",
              "      <td>0.000000</td>\n",
              "    </tr>\n",
              "    <tr>\n",
              "      <th>3</th>\n",
              "      <td>3</td>\n",
              "      <td>neutral</td>\n",
              "      <td>1</td>\n",
              "      <td>-688.70215</td>\n",
              "      <td>78.576100</td>\n",
              "      <td>5.858980</td>\n",
              "      <td>15.703995</td>\n",
              "      <td>7.521081</td>\n",
              "      <td>13.692708</td>\n",
              "      <td>-3.470273</td>\n",
              "      <td>...</td>\n",
              "      <td>0.000000</td>\n",
              "      <td>0.000000</td>\n",
              "      <td>0.000000</td>\n",
              "      <td>0.000000</td>\n",
              "      <td>0.000000</td>\n",
              "      <td>0.000000</td>\n",
              "      <td>0.000000</td>\n",
              "      <td>0.000000</td>\n",
              "      <td>0.000000</td>\n",
              "      <td>0.000000</td>\n",
              "    </tr>\n",
              "    <tr>\n",
              "      <th>4</th>\n",
              "      <td>4</td>\n",
              "      <td>calm</td>\n",
              "      <td>1</td>\n",
              "      <td>-727.78330</td>\n",
              "      <td>87.151090</td>\n",
              "      <td>5.981501</td>\n",
              "      <td>16.521162</td>\n",
              "      <td>7.651807</td>\n",
              "      <td>15.974822</td>\n",
              "      <td>-4.892543</td>\n",
              "      <td>...</td>\n",
              "      <td>0.070312</td>\n",
              "      <td>0.121094</td>\n",
              "      <td>0.192383</td>\n",
              "      <td>0.204102</td>\n",
              "      <td>0.260254</td>\n",
              "      <td>0.184082</td>\n",
              "      <td>0.202148</td>\n",
              "      <td>0.203125</td>\n",
              "      <td>0.133789</td>\n",
              "      <td>0.101562</td>\n",
              "    </tr>\n",
              "  </tbody>\n",
              "</table>\n",
              "<p>5 rows × 1052 columns</p>\n",
              "</div>\n",
              "      <button class=\"colab-df-convert\" onclick=\"convertToInteractive('df-e60be17c-a346-4bed-a9d6-6767e4609728')\"\n",
              "              title=\"Convert this dataframe to an interactive table.\"\n",
              "              style=\"display:none;\">\n",
              "        \n",
              "  <svg xmlns=\"http://www.w3.org/2000/svg\" height=\"24px\"viewBox=\"0 0 24 24\"\n",
              "       width=\"24px\">\n",
              "    <path d=\"M0 0h24v24H0V0z\" fill=\"none\"/>\n",
              "    <path d=\"M18.56 5.44l.94 2.06.94-2.06 2.06-.94-2.06-.94-.94-2.06-.94 2.06-2.06.94zm-11 1L8.5 8.5l.94-2.06 2.06-.94-2.06-.94L8.5 2.5l-.94 2.06-2.06.94zm10 10l.94 2.06.94-2.06 2.06-.94-2.06-.94-.94-2.06-.94 2.06-2.06.94z\"/><path d=\"M17.41 7.96l-1.37-1.37c-.4-.4-.92-.59-1.43-.59-.52 0-1.04.2-1.43.59L10.3 9.45l-7.72 7.72c-.78.78-.78 2.05 0 2.83L4 21.41c.39.39.9.59 1.41.59.51 0 1.02-.2 1.41-.59l7.78-7.78 2.81-2.81c.8-.78.8-2.07 0-2.86zM5.41 20L4 18.59l7.72-7.72 1.47 1.35L5.41 20z\"/>\n",
              "  </svg>\n",
              "      </button>\n",
              "      \n",
              "  <style>\n",
              "    .colab-df-container {\n",
              "      display:flex;\n",
              "      flex-wrap:wrap;\n",
              "      gap: 12px;\n",
              "    }\n",
              "\n",
              "    .colab-df-convert {\n",
              "      background-color: #E8F0FE;\n",
              "      border: none;\n",
              "      border-radius: 50%;\n",
              "      cursor: pointer;\n",
              "      display: none;\n",
              "      fill: #1967D2;\n",
              "      height: 32px;\n",
              "      padding: 0 0 0 0;\n",
              "      width: 32px;\n",
              "    }\n",
              "\n",
              "    .colab-df-convert:hover {\n",
              "      background-color: #E2EBFA;\n",
              "      box-shadow: 0px 1px 2px rgba(60, 64, 67, 0.3), 0px 1px 3px 1px rgba(60, 64, 67, 0.15);\n",
              "      fill: #174EA6;\n",
              "    }\n",
              "\n",
              "    [theme=dark] .colab-df-convert {\n",
              "      background-color: #3B4455;\n",
              "      fill: #D2E3FC;\n",
              "    }\n",
              "\n",
              "    [theme=dark] .colab-df-convert:hover {\n",
              "      background-color: #434B5C;\n",
              "      box-shadow: 0px 1px 3px 1px rgba(0, 0, 0, 0.15);\n",
              "      filter: drop-shadow(0px 1px 2px rgba(0, 0, 0, 0.3));\n",
              "      fill: #FFFFFF;\n",
              "    }\n",
              "  </style>\n",
              "\n",
              "      <script>\n",
              "        const buttonEl =\n",
              "          document.querySelector('#df-e60be17c-a346-4bed-a9d6-6767e4609728 button.colab-df-convert');\n",
              "        buttonEl.style.display =\n",
              "          google.colab.kernel.accessAllowed ? 'block' : 'none';\n",
              "\n",
              "        async function convertToInteractive(key) {\n",
              "          const element = document.querySelector('#df-e60be17c-a346-4bed-a9d6-6767e4609728');\n",
              "          const dataTable =\n",
              "            await google.colab.kernel.invokeFunction('convertToInteractive',\n",
              "                                                     [key], {});\n",
              "          if (!dataTable) return;\n",
              "\n",
              "          const docLinkHtml = 'Like what you see? Visit the ' +\n",
              "            '<a target=\"_blank\" href=https://colab.research.google.com/notebooks/data_table.ipynb>data table notebook</a>'\n",
              "            + ' to learn more about interactive tables.';\n",
              "          element.innerHTML = '';\n",
              "          dataTable['output_type'] = 'display_data';\n",
              "          await google.colab.output.renderOutput(dataTable, element);\n",
              "          const docLink = document.createElement('div');\n",
              "          docLink.innerHTML = docLinkHtml;\n",
              "          element.appendChild(docLink);\n",
              "        }\n",
              "      </script>\n",
              "    </div>\n",
              "  </div>\n",
              "  "
            ]
          },
          "metadata": {},
          "execution_count": 3
        }
      ]
    },
    {
      "cell_type": "markdown",
      "metadata": {
        "id": "BqMWCGVbqITG"
      },
      "source": [
        "### Data Preparation for modeling"
      ]
    },
    {
      "cell_type": "code",
      "metadata": {
        "id": "CjSrKhZlxleu"
      },
      "source": [
        "# TRAIN, VALIDATION & TEST SPLITS\n",
        "\n",
        "def create_data_splits(data_frame, split_size):\n",
        "  # TRAIN TEST SPLIT DATA\n",
        "  train_set, test_set = train_test_split(data_frame, test_size=split_size, random_state=42,\n",
        "                               stratify=data_frame[['emotion', 'actor']])\n",
        "  # TRAIN VALIDATION SPLIT\n",
        "  train_set, validation_set = train_test_split(train_set, test_size=0.2, random_state=42)\n",
        "\n",
        "  return train_set, validation_set, test_set"
      ],
      "execution_count": 4,
      "outputs": []
    },
    {
      "cell_type": "code",
      "metadata": {
        "id": "katJtiEWyY58"
      },
      "source": [
        "train, validation, test = create_data_splits(df_combined, split_size=0.2)"
      ],
      "execution_count": 5,
      "outputs": []
    },
    {
      "cell_type": "code",
      "metadata": {
        "id": "t9ja9qWOwANc",
        "colab": {
          "base_uri": "https://localhost:8080/"
        },
        "outputId": "818c8888-d32b-4fed-868f-792dfc22f242"
      },
      "source": [
        "print(train.shape)\n",
        "print(validation.shape)\n",
        "print(test.shape)"
      ],
      "execution_count": 6,
      "outputs": [
        {
          "output_type": "stream",
          "name": "stdout",
          "text": [
            "(921, 1052)\n",
            "(231, 1052)\n",
            "(288, 1052)\n"
          ]
        }
      ]
    },
    {
      "cell_type": "code",
      "metadata": {
        "id": "nsj-E0740ayc"
      },
      "source": [
        "# SEPERATE FEATURES AND LABELS\n",
        "\n",
        "def create_features_labels_arrays(train, validation, test):\n",
        "  # Training set\n",
        "  X_train = train.iloc[:, 3:]\n",
        "  y_train = train.iloc[:,1]\n",
        "\n",
        "  # Testing set\n",
        "  X_test = test.iloc[:,3:]\n",
        "  y_test = test.iloc[:,1]\n",
        "\n",
        "  # Validation set\n",
        "  X_validation = validation.iloc[:,3:]\n",
        "  y_validation = validation.iloc[:,1]\n",
        "\n",
        "  return X_train, y_train, X_test, y_test, X_validation, y_validation"
      ],
      "execution_count": 7,
      "outputs": []
    },
    {
      "cell_type": "code",
      "metadata": {
        "id": "ED44Shws1WSU"
      },
      "source": [
        "X_train, y_train, X_test, y_test, X_validation, y_validation = create_features_labels_arrays(train, validation, test)"
      ],
      "execution_count": 8,
      "outputs": []
    },
    {
      "cell_type": "code",
      "metadata": {
        "id": "BbkpFA_NqOa-",
        "colab": {
          "base_uri": "https://localhost:8080/"
        },
        "outputId": "65fee00f-dbeb-41f7-cf48-08373f710c68"
      },
      "source": [
        "print(X_train.shape)\n",
        "print(X_test.shape)\n",
        "print(X_validation.shape)"
      ],
      "execution_count": 9,
      "outputs": [
        {
          "output_type": "stream",
          "name": "stdout",
          "text": [
            "(921, 1049)\n",
            "(288, 1049)\n",
            "(231, 1049)\n"
          ]
        }
      ]
    },
    {
      "cell_type": "markdown",
      "metadata": {
        "id": "ihFc6dpPqvgW"
      },
      "source": [
        "### Data Preprocessing"
      ]
    },
    {
      "cell_type": "code",
      "metadata": {
        "id": "iiuOZys6qtzf"
      },
      "source": [
        "# NORMALIZE DATA\n",
        "\n",
        "def normalize(X_train, X_test, X_validation):\n",
        "  mean = np.mean(X_train, axis=0)\n",
        "  std = np.std(X_train, axis=0)\n",
        "  X_train = (X_train - mean) / std\n",
        "  X_test = (X_test - mean) / std\n",
        "  X_validation = (X_validation - mean) /std\n",
        "  return X_train, X_validation, X_test"
      ],
      "execution_count": 10,
      "outputs": []
    },
    {
      "cell_type": "code",
      "metadata": {
        "id": "GjR_Nttk24gc"
      },
      "source": [
        "X_train, X_validation, X_test = normalize(X_train, X_test, X_validation)"
      ],
      "execution_count": 11,
      "outputs": []
    },
    {
      "cell_type": "code",
      "metadata": {
        "id": "BIRKzNvtq4IG",
        "colab": {
          "base_uri": "https://localhost:8080/",
          "height": 487
        },
        "outputId": "d4c13410-8d5e-4cbd-c3b8-4244c9a19cde"
      },
      "source": [
        "X_train"
      ],
      "execution_count": 12,
      "outputs": [
        {
          "output_type": "execute_result",
          "data": {
            "text/plain": [
              "             0         1         2         3         4         5         6  \\\n",
              "1036  1.595679 -2.436616 -1.514227 -1.964854 -1.451400 -1.361762 -0.145686   \n",
              "1225  0.847454  1.913956 -0.546146 -0.427904  1.402261  1.207891 -0.360267   \n",
              "372  -0.828193  1.780544  0.445339  0.540923  1.429144  1.121802  0.644818   \n",
              "211   0.188013 -0.782151 -0.651782 -0.477900 -0.875524 -1.542397 -0.271836   \n",
              "1018  1.233247 -1.432905  0.406614  0.867307 -0.157041 -0.046907  1.231033   \n",
              "...        ...       ...       ...       ...       ...       ...       ...   \n",
              "733  -0.909045  0.763324  0.304035 -0.153044  0.597637  0.695800  1.327875   \n",
              "1    -1.021537  0.024106  0.584049  0.221343  1.319719  0.648275  0.944021   \n",
              "154   2.508080  0.628506 -1.373030  0.273102 -1.129686 -1.044361 -0.464840   \n",
              "1102 -1.301408  1.333994  1.197735  0.772549  0.449023  0.933873  2.667472   \n",
              "990   0.115248  0.211650  0.179693  0.337034  1.277795  0.891406  0.447274   \n",
              "\n",
              "             7         8         9  ...     249.3     250.3     251.3  \\\n",
              "1036 -1.086007  0.908590 -1.193488  ... -0.491792 -0.559748 -0.092088   \n",
              "1225 -2.791007  0.741631 -1.555200  ... -0.296808 -0.157306  0.190579   \n",
              "372   0.624466  0.527090  0.857312  ...  0.290780  0.382813  0.570086   \n",
              "211  -0.378563 -1.006165 -0.937283  ...  0.846748  0.859388  1.297692   \n",
              "1018  0.912411  1.659086  1.430035  ... -0.001697  0.041267  0.002134   \n",
              "...        ...       ...       ...  ...       ...       ...       ...   \n",
              "733  -0.437637  1.247748 -0.079157  ... -1.298078 -1.290497 -1.248930   \n",
              "1     0.520806  0.921063  0.069673  ... -1.298078 -1.290497 -1.248930   \n",
              "154   0.657391 -0.946206 -0.111078  ... -1.092554 -1.179296 -1.123300   \n",
              "1102  1.371381 -0.130973 -0.046221  ... -1.298078 -1.290497 -1.248930   \n",
              "990   2.060370  1.495378 -0.161683  ... -0.233570 -0.665653 -0.345965   \n",
              "\n",
              "         252.3     253.3     254.3     255.3     256.3     257.3     258.3  \n",
              "1036  0.192592  0.542643  0.763745  0.676921  0.344159  0.166146 -0.133400  \n",
              "1225  0.413362  0.722922  0.791900  0.835001  0.800745  0.776432  0.762948  \n",
              "372   0.486952  0.583849  0.694635  0.804405  0.758097  0.729487  0.578767  \n",
              "211   1.569772  1.351326  1.362695  1.107816  1.187087  1.184268  1.098567  \n",
              "1018 -0.283113 -1.172589 -1.173887 -1.174144 -1.120929 -1.121910 -1.111606  \n",
              "...        ...       ...       ...       ...       ...       ...       ...  \n",
              "733  -1.242408 -1.172589 -1.173887 -1.174144 -1.120929 -1.121910 -1.111606  \n",
              "1    -1.242408 -1.172589 -1.173887 -1.174144 -1.120929 -1.121910 -1.111606  \n",
              "154  -1.000613 -0.716739 -0.469992 -0.200168  0.045623  0.136805  0.230870  \n",
              "1102 -1.242408 -1.172589 -1.173887 -1.174144 -1.120929 -1.121910 -1.111606  \n",
              "990  -0.293626 -0.338152  0.144317  0.526490  0.524787  0.629729  0.480537  \n",
              "\n",
              "[921 rows x 1049 columns]"
            ],
            "text/html": [
              "\n",
              "  <div id=\"df-42462e8b-461f-434f-b685-bb6700250bc5\">\n",
              "    <div class=\"colab-df-container\">\n",
              "      <div>\n",
              "<style scoped>\n",
              "    .dataframe tbody tr th:only-of-type {\n",
              "        vertical-align: middle;\n",
              "    }\n",
              "\n",
              "    .dataframe tbody tr th {\n",
              "        vertical-align: top;\n",
              "    }\n",
              "\n",
              "    .dataframe thead th {\n",
              "        text-align: right;\n",
              "    }\n",
              "</style>\n",
              "<table border=\"1\" class=\"dataframe\">\n",
              "  <thead>\n",
              "    <tr style=\"text-align: right;\">\n",
              "      <th></th>\n",
              "      <th>0</th>\n",
              "      <th>1</th>\n",
              "      <th>2</th>\n",
              "      <th>3</th>\n",
              "      <th>4</th>\n",
              "      <th>5</th>\n",
              "      <th>6</th>\n",
              "      <th>7</th>\n",
              "      <th>8</th>\n",
              "      <th>9</th>\n",
              "      <th>...</th>\n",
              "      <th>249.3</th>\n",
              "      <th>250.3</th>\n",
              "      <th>251.3</th>\n",
              "      <th>252.3</th>\n",
              "      <th>253.3</th>\n",
              "      <th>254.3</th>\n",
              "      <th>255.3</th>\n",
              "      <th>256.3</th>\n",
              "      <th>257.3</th>\n",
              "      <th>258.3</th>\n",
              "    </tr>\n",
              "  </thead>\n",
              "  <tbody>\n",
              "    <tr>\n",
              "      <th>1036</th>\n",
              "      <td>1.595679</td>\n",
              "      <td>-2.436616</td>\n",
              "      <td>-1.514227</td>\n",
              "      <td>-1.964854</td>\n",
              "      <td>-1.451400</td>\n",
              "      <td>-1.361762</td>\n",
              "      <td>-0.145686</td>\n",
              "      <td>-1.086007</td>\n",
              "      <td>0.908590</td>\n",
              "      <td>-1.193488</td>\n",
              "      <td>...</td>\n",
              "      <td>-0.491792</td>\n",
              "      <td>-0.559748</td>\n",
              "      <td>-0.092088</td>\n",
              "      <td>0.192592</td>\n",
              "      <td>0.542643</td>\n",
              "      <td>0.763745</td>\n",
              "      <td>0.676921</td>\n",
              "      <td>0.344159</td>\n",
              "      <td>0.166146</td>\n",
              "      <td>-0.133400</td>\n",
              "    </tr>\n",
              "    <tr>\n",
              "      <th>1225</th>\n",
              "      <td>0.847454</td>\n",
              "      <td>1.913956</td>\n",
              "      <td>-0.546146</td>\n",
              "      <td>-0.427904</td>\n",
              "      <td>1.402261</td>\n",
              "      <td>1.207891</td>\n",
              "      <td>-0.360267</td>\n",
              "      <td>-2.791007</td>\n",
              "      <td>0.741631</td>\n",
              "      <td>-1.555200</td>\n",
              "      <td>...</td>\n",
              "      <td>-0.296808</td>\n",
              "      <td>-0.157306</td>\n",
              "      <td>0.190579</td>\n",
              "      <td>0.413362</td>\n",
              "      <td>0.722922</td>\n",
              "      <td>0.791900</td>\n",
              "      <td>0.835001</td>\n",
              "      <td>0.800745</td>\n",
              "      <td>0.776432</td>\n",
              "      <td>0.762948</td>\n",
              "    </tr>\n",
              "    <tr>\n",
              "      <th>372</th>\n",
              "      <td>-0.828193</td>\n",
              "      <td>1.780544</td>\n",
              "      <td>0.445339</td>\n",
              "      <td>0.540923</td>\n",
              "      <td>1.429144</td>\n",
              "      <td>1.121802</td>\n",
              "      <td>0.644818</td>\n",
              "      <td>0.624466</td>\n",
              "      <td>0.527090</td>\n",
              "      <td>0.857312</td>\n",
              "      <td>...</td>\n",
              "      <td>0.290780</td>\n",
              "      <td>0.382813</td>\n",
              "      <td>0.570086</td>\n",
              "      <td>0.486952</td>\n",
              "      <td>0.583849</td>\n",
              "      <td>0.694635</td>\n",
              "      <td>0.804405</td>\n",
              "      <td>0.758097</td>\n",
              "      <td>0.729487</td>\n",
              "      <td>0.578767</td>\n",
              "    </tr>\n",
              "    <tr>\n",
              "      <th>211</th>\n",
              "      <td>0.188013</td>\n",
              "      <td>-0.782151</td>\n",
              "      <td>-0.651782</td>\n",
              "      <td>-0.477900</td>\n",
              "      <td>-0.875524</td>\n",
              "      <td>-1.542397</td>\n",
              "      <td>-0.271836</td>\n",
              "      <td>-0.378563</td>\n",
              "      <td>-1.006165</td>\n",
              "      <td>-0.937283</td>\n",
              "      <td>...</td>\n",
              "      <td>0.846748</td>\n",
              "      <td>0.859388</td>\n",
              "      <td>1.297692</td>\n",
              "      <td>1.569772</td>\n",
              "      <td>1.351326</td>\n",
              "      <td>1.362695</td>\n",
              "      <td>1.107816</td>\n",
              "      <td>1.187087</td>\n",
              "      <td>1.184268</td>\n",
              "      <td>1.098567</td>\n",
              "    </tr>\n",
              "    <tr>\n",
              "      <th>1018</th>\n",
              "      <td>1.233247</td>\n",
              "      <td>-1.432905</td>\n",
              "      <td>0.406614</td>\n",
              "      <td>0.867307</td>\n",
              "      <td>-0.157041</td>\n",
              "      <td>-0.046907</td>\n",
              "      <td>1.231033</td>\n",
              "      <td>0.912411</td>\n",
              "      <td>1.659086</td>\n",
              "      <td>1.430035</td>\n",
              "      <td>...</td>\n",
              "      <td>-0.001697</td>\n",
              "      <td>0.041267</td>\n",
              "      <td>0.002134</td>\n",
              "      <td>-0.283113</td>\n",
              "      <td>-1.172589</td>\n",
              "      <td>-1.173887</td>\n",
              "      <td>-1.174144</td>\n",
              "      <td>-1.120929</td>\n",
              "      <td>-1.121910</td>\n",
              "      <td>-1.111606</td>\n",
              "    </tr>\n",
              "    <tr>\n",
              "      <th>...</th>\n",
              "      <td>...</td>\n",
              "      <td>...</td>\n",
              "      <td>...</td>\n",
              "      <td>...</td>\n",
              "      <td>...</td>\n",
              "      <td>...</td>\n",
              "      <td>...</td>\n",
              "      <td>...</td>\n",
              "      <td>...</td>\n",
              "      <td>...</td>\n",
              "      <td>...</td>\n",
              "      <td>...</td>\n",
              "      <td>...</td>\n",
              "      <td>...</td>\n",
              "      <td>...</td>\n",
              "      <td>...</td>\n",
              "      <td>...</td>\n",
              "      <td>...</td>\n",
              "      <td>...</td>\n",
              "      <td>...</td>\n",
              "      <td>...</td>\n",
              "    </tr>\n",
              "    <tr>\n",
              "      <th>733</th>\n",
              "      <td>-0.909045</td>\n",
              "      <td>0.763324</td>\n",
              "      <td>0.304035</td>\n",
              "      <td>-0.153044</td>\n",
              "      <td>0.597637</td>\n",
              "      <td>0.695800</td>\n",
              "      <td>1.327875</td>\n",
              "      <td>-0.437637</td>\n",
              "      <td>1.247748</td>\n",
              "      <td>-0.079157</td>\n",
              "      <td>...</td>\n",
              "      <td>-1.298078</td>\n",
              "      <td>-1.290497</td>\n",
              "      <td>-1.248930</td>\n",
              "      <td>-1.242408</td>\n",
              "      <td>-1.172589</td>\n",
              "      <td>-1.173887</td>\n",
              "      <td>-1.174144</td>\n",
              "      <td>-1.120929</td>\n",
              "      <td>-1.121910</td>\n",
              "      <td>-1.111606</td>\n",
              "    </tr>\n",
              "    <tr>\n",
              "      <th>1</th>\n",
              "      <td>-1.021537</td>\n",
              "      <td>0.024106</td>\n",
              "      <td>0.584049</td>\n",
              "      <td>0.221343</td>\n",
              "      <td>1.319719</td>\n",
              "      <td>0.648275</td>\n",
              "      <td>0.944021</td>\n",
              "      <td>0.520806</td>\n",
              "      <td>0.921063</td>\n",
              "      <td>0.069673</td>\n",
              "      <td>...</td>\n",
              "      <td>-1.298078</td>\n",
              "      <td>-1.290497</td>\n",
              "      <td>-1.248930</td>\n",
              "      <td>-1.242408</td>\n",
              "      <td>-1.172589</td>\n",
              "      <td>-1.173887</td>\n",
              "      <td>-1.174144</td>\n",
              "      <td>-1.120929</td>\n",
              "      <td>-1.121910</td>\n",
              "      <td>-1.111606</td>\n",
              "    </tr>\n",
              "    <tr>\n",
              "      <th>154</th>\n",
              "      <td>2.508080</td>\n",
              "      <td>0.628506</td>\n",
              "      <td>-1.373030</td>\n",
              "      <td>0.273102</td>\n",
              "      <td>-1.129686</td>\n",
              "      <td>-1.044361</td>\n",
              "      <td>-0.464840</td>\n",
              "      <td>0.657391</td>\n",
              "      <td>-0.946206</td>\n",
              "      <td>-0.111078</td>\n",
              "      <td>...</td>\n",
              "      <td>-1.092554</td>\n",
              "      <td>-1.179296</td>\n",
              "      <td>-1.123300</td>\n",
              "      <td>-1.000613</td>\n",
              "      <td>-0.716739</td>\n",
              "      <td>-0.469992</td>\n",
              "      <td>-0.200168</td>\n",
              "      <td>0.045623</td>\n",
              "      <td>0.136805</td>\n",
              "      <td>0.230870</td>\n",
              "    </tr>\n",
              "    <tr>\n",
              "      <th>1102</th>\n",
              "      <td>-1.301408</td>\n",
              "      <td>1.333994</td>\n",
              "      <td>1.197735</td>\n",
              "      <td>0.772549</td>\n",
              "      <td>0.449023</td>\n",
              "      <td>0.933873</td>\n",
              "      <td>2.667472</td>\n",
              "      <td>1.371381</td>\n",
              "      <td>-0.130973</td>\n",
              "      <td>-0.046221</td>\n",
              "      <td>...</td>\n",
              "      <td>-1.298078</td>\n",
              "      <td>-1.290497</td>\n",
              "      <td>-1.248930</td>\n",
              "      <td>-1.242408</td>\n",
              "      <td>-1.172589</td>\n",
              "      <td>-1.173887</td>\n",
              "      <td>-1.174144</td>\n",
              "      <td>-1.120929</td>\n",
              "      <td>-1.121910</td>\n",
              "      <td>-1.111606</td>\n",
              "    </tr>\n",
              "    <tr>\n",
              "      <th>990</th>\n",
              "      <td>0.115248</td>\n",
              "      <td>0.211650</td>\n",
              "      <td>0.179693</td>\n",
              "      <td>0.337034</td>\n",
              "      <td>1.277795</td>\n",
              "      <td>0.891406</td>\n",
              "      <td>0.447274</td>\n",
              "      <td>2.060370</td>\n",
              "      <td>1.495378</td>\n",
              "      <td>-0.161683</td>\n",
              "      <td>...</td>\n",
              "      <td>-0.233570</td>\n",
              "      <td>-0.665653</td>\n",
              "      <td>-0.345965</td>\n",
              "      <td>-0.293626</td>\n",
              "      <td>-0.338152</td>\n",
              "      <td>0.144317</td>\n",
              "      <td>0.526490</td>\n",
              "      <td>0.524787</td>\n",
              "      <td>0.629729</td>\n",
              "      <td>0.480537</td>\n",
              "    </tr>\n",
              "  </tbody>\n",
              "</table>\n",
              "<p>921 rows × 1049 columns</p>\n",
              "</div>\n",
              "      <button class=\"colab-df-convert\" onclick=\"convertToInteractive('df-42462e8b-461f-434f-b685-bb6700250bc5')\"\n",
              "              title=\"Convert this dataframe to an interactive table.\"\n",
              "              style=\"display:none;\">\n",
              "        \n",
              "  <svg xmlns=\"http://www.w3.org/2000/svg\" height=\"24px\"viewBox=\"0 0 24 24\"\n",
              "       width=\"24px\">\n",
              "    <path d=\"M0 0h24v24H0V0z\" fill=\"none\"/>\n",
              "    <path d=\"M18.56 5.44l.94 2.06.94-2.06 2.06-.94-2.06-.94-.94-2.06-.94 2.06-2.06.94zm-11 1L8.5 8.5l.94-2.06 2.06-.94-2.06-.94L8.5 2.5l-.94 2.06-2.06.94zm10 10l.94 2.06.94-2.06 2.06-.94-2.06-.94-.94-2.06-.94 2.06-2.06.94z\"/><path d=\"M17.41 7.96l-1.37-1.37c-.4-.4-.92-.59-1.43-.59-.52 0-1.04.2-1.43.59L10.3 9.45l-7.72 7.72c-.78.78-.78 2.05 0 2.83L4 21.41c.39.39.9.59 1.41.59.51 0 1.02-.2 1.41-.59l7.78-7.78 2.81-2.81c.8-.78.8-2.07 0-2.86zM5.41 20L4 18.59l7.72-7.72 1.47 1.35L5.41 20z\"/>\n",
              "  </svg>\n",
              "      </button>\n",
              "      \n",
              "  <style>\n",
              "    .colab-df-container {\n",
              "      display:flex;\n",
              "      flex-wrap:wrap;\n",
              "      gap: 12px;\n",
              "    }\n",
              "\n",
              "    .colab-df-convert {\n",
              "      background-color: #E8F0FE;\n",
              "      border: none;\n",
              "      border-radius: 50%;\n",
              "      cursor: pointer;\n",
              "      display: none;\n",
              "      fill: #1967D2;\n",
              "      height: 32px;\n",
              "      padding: 0 0 0 0;\n",
              "      width: 32px;\n",
              "    }\n",
              "\n",
              "    .colab-df-convert:hover {\n",
              "      background-color: #E2EBFA;\n",
              "      box-shadow: 0px 1px 2px rgba(60, 64, 67, 0.3), 0px 1px 3px 1px rgba(60, 64, 67, 0.15);\n",
              "      fill: #174EA6;\n",
              "    }\n",
              "\n",
              "    [theme=dark] .colab-df-convert {\n",
              "      background-color: #3B4455;\n",
              "      fill: #D2E3FC;\n",
              "    }\n",
              "\n",
              "    [theme=dark] .colab-df-convert:hover {\n",
              "      background-color: #434B5C;\n",
              "      box-shadow: 0px 1px 3px 1px rgba(0, 0, 0, 0.15);\n",
              "      filter: drop-shadow(0px 1px 2px rgba(0, 0, 0, 0.3));\n",
              "      fill: #FFFFFF;\n",
              "    }\n",
              "  </style>\n",
              "\n",
              "      <script>\n",
              "        const buttonEl =\n",
              "          document.querySelector('#df-42462e8b-461f-434f-b685-bb6700250bc5 button.colab-df-convert');\n",
              "        buttonEl.style.display =\n",
              "          google.colab.kernel.accessAllowed ? 'block' : 'none';\n",
              "\n",
              "        async function convertToInteractive(key) {\n",
              "          const element = document.querySelector('#df-42462e8b-461f-434f-b685-bb6700250bc5');\n",
              "          const dataTable =\n",
              "            await google.colab.kernel.invokeFunction('convertToInteractive',\n",
              "                                                     [key], {});\n",
              "          if (!dataTable) return;\n",
              "\n",
              "          const docLinkHtml = 'Like what you see? Visit the ' +\n",
              "            '<a target=\"_blank\" href=https://colab.research.google.com/notebooks/data_table.ipynb>data table notebook</a>'\n",
              "            + ' to learn more about interactive tables.';\n",
              "          element.innerHTML = '';\n",
              "          dataTable['output_type'] = 'display_data';\n",
              "          await google.colab.output.renderOutput(dataTable, element);\n",
              "          const docLink = document.createElement('div');\n",
              "          docLink.innerHTML = docLinkHtml;\n",
              "          element.appendChild(docLink);\n",
              "        }\n",
              "      </script>\n",
              "    </div>\n",
              "  </div>\n",
              "  "
            ]
          },
          "metadata": {},
          "execution_count": 12
        }
      ]
    },
    {
      "cell_type": "code",
      "metadata": {
        "id": "e_-47prmq7W1",
        "colab": {
          "base_uri": "https://localhost:8080/",
          "height": 487
        },
        "outputId": "ef346485-10ed-4d2c-8bb0-19625b715a0e"
      },
      "source": [
        "X_test"
      ],
      "execution_count": 13,
      "outputs": [
        {
          "output_type": "execute_result",
          "data": {
            "text/plain": [
              "             0         1         2         3         4         5         6  \\\n",
              "950   0.372401 -0.291995  0.754095  0.957032 -0.532724 -0.093363 -1.059571   \n",
              "591   1.647490  0.026977 -0.508224 -0.908246 -1.181309 -0.858178 -2.384094   \n",
              "840  -0.602793  0.996723  0.712110 -0.217379  1.142873  0.664544  0.765531   \n",
              "1275 -0.604024 -0.263504  0.381322 -0.424450 -1.035249  0.704154  0.168339   \n",
              "565   0.054742  0.628870  0.133649 -0.065032  0.942717  0.816219 -0.718918   \n",
              "...        ...       ...       ...       ...       ...       ...       ...   \n",
              "993   1.831940 -0.354668 -0.633629 -0.620799  0.603217  0.169698 -0.215945   \n",
              "748  -0.363650  0.335225  0.297418  0.029471  0.766451  0.141030  0.670122   \n",
              "370  -0.405751  1.987946  1.081888  1.991811  0.674501  1.863644 -0.193193   \n",
              "1300  0.717548 -1.212566 -1.467532 -1.037073 -1.538852 -1.162272 -0.741687   \n",
              "857   0.310799  0.955701 -0.105125 -0.539698  1.946431  1.008097  0.614284   \n",
              "\n",
              "             7         8         9  ...     249.3     250.3     251.3  \\\n",
              "950  -0.595938 -0.812016 -0.421142  ...  0.989034  0.748187  0.899864   \n",
              "591  -0.063995 -1.585490 -0.843484  ... -1.145253 -1.136934 -1.099744   \n",
              "840   0.468729  1.752123  0.666716  ... -1.298078 -1.290497 -1.248930   \n",
              "1275 -0.382940 -0.262145 -0.345274  ... -0.196681 -0.080525  0.389493   \n",
              "565  -0.143999 -1.570942 -1.542290  ...  0.612240  0.674053  0.376406   \n",
              "...        ...       ...       ...  ...       ...       ...       ...   \n",
              "993   0.706869  1.490545 -0.364853  ... -0.794808 -0.993961 -0.947942   \n",
              "748   0.187771  1.093246  0.331532  ... -0.512871 -0.673596 -0.654805   \n",
              "370  -0.032893 -0.190440  0.500597  ... -1.250650 -1.226953 -1.191350   \n",
              "1300 -2.216287 -0.506326 -1.149189  ...  0.222272  0.356336  0.420900   \n",
              "857   0.124823  2.423432  0.638117  ...  0.143224  0.356336  0.088505   \n",
              "\n",
              "         252.3     253.3     254.3     255.3     256.3     257.3     258.3  \n",
              "950   1.267529  1.098934  1.022266  0.914041  0.828341  0.811641  0.959408  \n",
              "591  -1.087344 -1.028366 -1.027988 -1.026262 -0.972915 -0.963470 -0.956075  \n",
              "840  -1.242408 -1.172589 -1.173887 -1.174144 -1.120929 -1.121910 -1.111606  \n",
              "1275  0.818105  0.625056  0.305573  0.014005 -0.074796 -0.077382  0.083525  \n",
              "565   0.092721 -0.229984 -0.510945 -0.682056 -0.706991 -0.719943 -0.702315  \n",
              "...        ...       ...       ...       ...       ...       ...       ...  \n",
              "993  -0.559075 -0.518432 -0.452074 -0.138975 -0.072287  0.104531  0.484630  \n",
              "748  -0.856062 -1.172589 -1.173887 -1.174144 -1.120929 -1.121910 -1.111606  \n",
              "370  -1.184588 -1.115930 -1.107337 -1.072157 -0.965388 -0.934130 -0.906960  \n",
              "1300  0.431759  0.532341  0.489865  0.419404  0.321581  0.283509  0.177662  \n",
              "857  -0.083369 -0.114090 -0.631248 -0.893679 -1.120929 -1.121910 -1.111606  \n",
              "\n",
              "[288 rows x 1049 columns]"
            ],
            "text/html": [
              "\n",
              "  <div id=\"df-3630a3e5-80a4-4cc9-b98f-6473d968f111\">\n",
              "    <div class=\"colab-df-container\">\n",
              "      <div>\n",
              "<style scoped>\n",
              "    .dataframe tbody tr th:only-of-type {\n",
              "        vertical-align: middle;\n",
              "    }\n",
              "\n",
              "    .dataframe tbody tr th {\n",
              "        vertical-align: top;\n",
              "    }\n",
              "\n",
              "    .dataframe thead th {\n",
              "        text-align: right;\n",
              "    }\n",
              "</style>\n",
              "<table border=\"1\" class=\"dataframe\">\n",
              "  <thead>\n",
              "    <tr style=\"text-align: right;\">\n",
              "      <th></th>\n",
              "      <th>0</th>\n",
              "      <th>1</th>\n",
              "      <th>2</th>\n",
              "      <th>3</th>\n",
              "      <th>4</th>\n",
              "      <th>5</th>\n",
              "      <th>6</th>\n",
              "      <th>7</th>\n",
              "      <th>8</th>\n",
              "      <th>9</th>\n",
              "      <th>...</th>\n",
              "      <th>249.3</th>\n",
              "      <th>250.3</th>\n",
              "      <th>251.3</th>\n",
              "      <th>252.3</th>\n",
              "      <th>253.3</th>\n",
              "      <th>254.3</th>\n",
              "      <th>255.3</th>\n",
              "      <th>256.3</th>\n",
              "      <th>257.3</th>\n",
              "      <th>258.3</th>\n",
              "    </tr>\n",
              "  </thead>\n",
              "  <tbody>\n",
              "    <tr>\n",
              "      <th>950</th>\n",
              "      <td>0.372401</td>\n",
              "      <td>-0.291995</td>\n",
              "      <td>0.754095</td>\n",
              "      <td>0.957032</td>\n",
              "      <td>-0.532724</td>\n",
              "      <td>-0.093363</td>\n",
              "      <td>-1.059571</td>\n",
              "      <td>-0.595938</td>\n",
              "      <td>-0.812016</td>\n",
              "      <td>-0.421142</td>\n",
              "      <td>...</td>\n",
              "      <td>0.989034</td>\n",
              "      <td>0.748187</td>\n",
              "      <td>0.899864</td>\n",
              "      <td>1.267529</td>\n",
              "      <td>1.098934</td>\n",
              "      <td>1.022266</td>\n",
              "      <td>0.914041</td>\n",
              "      <td>0.828341</td>\n",
              "      <td>0.811641</td>\n",
              "      <td>0.959408</td>\n",
              "    </tr>\n",
              "    <tr>\n",
              "      <th>591</th>\n",
              "      <td>1.647490</td>\n",
              "      <td>0.026977</td>\n",
              "      <td>-0.508224</td>\n",
              "      <td>-0.908246</td>\n",
              "      <td>-1.181309</td>\n",
              "      <td>-0.858178</td>\n",
              "      <td>-2.384094</td>\n",
              "      <td>-0.063995</td>\n",
              "      <td>-1.585490</td>\n",
              "      <td>-0.843484</td>\n",
              "      <td>...</td>\n",
              "      <td>-1.145253</td>\n",
              "      <td>-1.136934</td>\n",
              "      <td>-1.099744</td>\n",
              "      <td>-1.087344</td>\n",
              "      <td>-1.028366</td>\n",
              "      <td>-1.027988</td>\n",
              "      <td>-1.026262</td>\n",
              "      <td>-0.972915</td>\n",
              "      <td>-0.963470</td>\n",
              "      <td>-0.956075</td>\n",
              "    </tr>\n",
              "    <tr>\n",
              "      <th>840</th>\n",
              "      <td>-0.602793</td>\n",
              "      <td>0.996723</td>\n",
              "      <td>0.712110</td>\n",
              "      <td>-0.217379</td>\n",
              "      <td>1.142873</td>\n",
              "      <td>0.664544</td>\n",
              "      <td>0.765531</td>\n",
              "      <td>0.468729</td>\n",
              "      <td>1.752123</td>\n",
              "      <td>0.666716</td>\n",
              "      <td>...</td>\n",
              "      <td>-1.298078</td>\n",
              "      <td>-1.290497</td>\n",
              "      <td>-1.248930</td>\n",
              "      <td>-1.242408</td>\n",
              "      <td>-1.172589</td>\n",
              "      <td>-1.173887</td>\n",
              "      <td>-1.174144</td>\n",
              "      <td>-1.120929</td>\n",
              "      <td>-1.121910</td>\n",
              "      <td>-1.111606</td>\n",
              "    </tr>\n",
              "    <tr>\n",
              "      <th>1275</th>\n",
              "      <td>-0.604024</td>\n",
              "      <td>-0.263504</td>\n",
              "      <td>0.381322</td>\n",
              "      <td>-0.424450</td>\n",
              "      <td>-1.035249</td>\n",
              "      <td>0.704154</td>\n",
              "      <td>0.168339</td>\n",
              "      <td>-0.382940</td>\n",
              "      <td>-0.262145</td>\n",
              "      <td>-0.345274</td>\n",
              "      <td>...</td>\n",
              "      <td>-0.196681</td>\n",
              "      <td>-0.080525</td>\n",
              "      <td>0.389493</td>\n",
              "      <td>0.818105</td>\n",
              "      <td>0.625056</td>\n",
              "      <td>0.305573</td>\n",
              "      <td>0.014005</td>\n",
              "      <td>-0.074796</td>\n",
              "      <td>-0.077382</td>\n",
              "      <td>0.083525</td>\n",
              "    </tr>\n",
              "    <tr>\n",
              "      <th>565</th>\n",
              "      <td>0.054742</td>\n",
              "      <td>0.628870</td>\n",
              "      <td>0.133649</td>\n",
              "      <td>-0.065032</td>\n",
              "      <td>0.942717</td>\n",
              "      <td>0.816219</td>\n",
              "      <td>-0.718918</td>\n",
              "      <td>-0.143999</td>\n",
              "      <td>-1.570942</td>\n",
              "      <td>-1.542290</td>\n",
              "      <td>...</td>\n",
              "      <td>0.612240</td>\n",
              "      <td>0.674053</td>\n",
              "      <td>0.376406</td>\n",
              "      <td>0.092721</td>\n",
              "      <td>-0.229984</td>\n",
              "      <td>-0.510945</td>\n",
              "      <td>-0.682056</td>\n",
              "      <td>-0.706991</td>\n",
              "      <td>-0.719943</td>\n",
              "      <td>-0.702315</td>\n",
              "    </tr>\n",
              "    <tr>\n",
              "      <th>...</th>\n",
              "      <td>...</td>\n",
              "      <td>...</td>\n",
              "      <td>...</td>\n",
              "      <td>...</td>\n",
              "      <td>...</td>\n",
              "      <td>...</td>\n",
              "      <td>...</td>\n",
              "      <td>...</td>\n",
              "      <td>...</td>\n",
              "      <td>...</td>\n",
              "      <td>...</td>\n",
              "      <td>...</td>\n",
              "      <td>...</td>\n",
              "      <td>...</td>\n",
              "      <td>...</td>\n",
              "      <td>...</td>\n",
              "      <td>...</td>\n",
              "      <td>...</td>\n",
              "      <td>...</td>\n",
              "      <td>...</td>\n",
              "      <td>...</td>\n",
              "    </tr>\n",
              "    <tr>\n",
              "      <th>993</th>\n",
              "      <td>1.831940</td>\n",
              "      <td>-0.354668</td>\n",
              "      <td>-0.633629</td>\n",
              "      <td>-0.620799</td>\n",
              "      <td>0.603217</td>\n",
              "      <td>0.169698</td>\n",
              "      <td>-0.215945</td>\n",
              "      <td>0.706869</td>\n",
              "      <td>1.490545</td>\n",
              "      <td>-0.364853</td>\n",
              "      <td>...</td>\n",
              "      <td>-0.794808</td>\n",
              "      <td>-0.993961</td>\n",
              "      <td>-0.947942</td>\n",
              "      <td>-0.559075</td>\n",
              "      <td>-0.518432</td>\n",
              "      <td>-0.452074</td>\n",
              "      <td>-0.138975</td>\n",
              "      <td>-0.072287</td>\n",
              "      <td>0.104531</td>\n",
              "      <td>0.484630</td>\n",
              "    </tr>\n",
              "    <tr>\n",
              "      <th>748</th>\n",
              "      <td>-0.363650</td>\n",
              "      <td>0.335225</td>\n",
              "      <td>0.297418</td>\n",
              "      <td>0.029471</td>\n",
              "      <td>0.766451</td>\n",
              "      <td>0.141030</td>\n",
              "      <td>0.670122</td>\n",
              "      <td>0.187771</td>\n",
              "      <td>1.093246</td>\n",
              "      <td>0.331532</td>\n",
              "      <td>...</td>\n",
              "      <td>-0.512871</td>\n",
              "      <td>-0.673596</td>\n",
              "      <td>-0.654805</td>\n",
              "      <td>-0.856062</td>\n",
              "      <td>-1.172589</td>\n",
              "      <td>-1.173887</td>\n",
              "      <td>-1.174144</td>\n",
              "      <td>-1.120929</td>\n",
              "      <td>-1.121910</td>\n",
              "      <td>-1.111606</td>\n",
              "    </tr>\n",
              "    <tr>\n",
              "      <th>370</th>\n",
              "      <td>-0.405751</td>\n",
              "      <td>1.987946</td>\n",
              "      <td>1.081888</td>\n",
              "      <td>1.991811</td>\n",
              "      <td>0.674501</td>\n",
              "      <td>1.863644</td>\n",
              "      <td>-0.193193</td>\n",
              "      <td>-0.032893</td>\n",
              "      <td>-0.190440</td>\n",
              "      <td>0.500597</td>\n",
              "      <td>...</td>\n",
              "      <td>-1.250650</td>\n",
              "      <td>-1.226953</td>\n",
              "      <td>-1.191350</td>\n",
              "      <td>-1.184588</td>\n",
              "      <td>-1.115930</td>\n",
              "      <td>-1.107337</td>\n",
              "      <td>-1.072157</td>\n",
              "      <td>-0.965388</td>\n",
              "      <td>-0.934130</td>\n",
              "      <td>-0.906960</td>\n",
              "    </tr>\n",
              "    <tr>\n",
              "      <th>1300</th>\n",
              "      <td>0.717548</td>\n",
              "      <td>-1.212566</td>\n",
              "      <td>-1.467532</td>\n",
              "      <td>-1.037073</td>\n",
              "      <td>-1.538852</td>\n",
              "      <td>-1.162272</td>\n",
              "      <td>-0.741687</td>\n",
              "      <td>-2.216287</td>\n",
              "      <td>-0.506326</td>\n",
              "      <td>-1.149189</td>\n",
              "      <td>...</td>\n",
              "      <td>0.222272</td>\n",
              "      <td>0.356336</td>\n",
              "      <td>0.420900</td>\n",
              "      <td>0.431759</td>\n",
              "      <td>0.532341</td>\n",
              "      <td>0.489865</td>\n",
              "      <td>0.419404</td>\n",
              "      <td>0.321581</td>\n",
              "      <td>0.283509</td>\n",
              "      <td>0.177662</td>\n",
              "    </tr>\n",
              "    <tr>\n",
              "      <th>857</th>\n",
              "      <td>0.310799</td>\n",
              "      <td>0.955701</td>\n",
              "      <td>-0.105125</td>\n",
              "      <td>-0.539698</td>\n",
              "      <td>1.946431</td>\n",
              "      <td>1.008097</td>\n",
              "      <td>0.614284</td>\n",
              "      <td>0.124823</td>\n",
              "      <td>2.423432</td>\n",
              "      <td>0.638117</td>\n",
              "      <td>...</td>\n",
              "      <td>0.143224</td>\n",
              "      <td>0.356336</td>\n",
              "      <td>0.088505</td>\n",
              "      <td>-0.083369</td>\n",
              "      <td>-0.114090</td>\n",
              "      <td>-0.631248</td>\n",
              "      <td>-0.893679</td>\n",
              "      <td>-1.120929</td>\n",
              "      <td>-1.121910</td>\n",
              "      <td>-1.111606</td>\n",
              "    </tr>\n",
              "  </tbody>\n",
              "</table>\n",
              "<p>288 rows × 1049 columns</p>\n",
              "</div>\n",
              "      <button class=\"colab-df-convert\" onclick=\"convertToInteractive('df-3630a3e5-80a4-4cc9-b98f-6473d968f111')\"\n",
              "              title=\"Convert this dataframe to an interactive table.\"\n",
              "              style=\"display:none;\">\n",
              "        \n",
              "  <svg xmlns=\"http://www.w3.org/2000/svg\" height=\"24px\"viewBox=\"0 0 24 24\"\n",
              "       width=\"24px\">\n",
              "    <path d=\"M0 0h24v24H0V0z\" fill=\"none\"/>\n",
              "    <path d=\"M18.56 5.44l.94 2.06.94-2.06 2.06-.94-2.06-.94-.94-2.06-.94 2.06-2.06.94zm-11 1L8.5 8.5l.94-2.06 2.06-.94-2.06-.94L8.5 2.5l-.94 2.06-2.06.94zm10 10l.94 2.06.94-2.06 2.06-.94-2.06-.94-.94-2.06-.94 2.06-2.06.94z\"/><path d=\"M17.41 7.96l-1.37-1.37c-.4-.4-.92-.59-1.43-.59-.52 0-1.04.2-1.43.59L10.3 9.45l-7.72 7.72c-.78.78-.78 2.05 0 2.83L4 21.41c.39.39.9.59 1.41.59.51 0 1.02-.2 1.41-.59l7.78-7.78 2.81-2.81c.8-.78.8-2.07 0-2.86zM5.41 20L4 18.59l7.72-7.72 1.47 1.35L5.41 20z\"/>\n",
              "  </svg>\n",
              "      </button>\n",
              "      \n",
              "  <style>\n",
              "    .colab-df-container {\n",
              "      display:flex;\n",
              "      flex-wrap:wrap;\n",
              "      gap: 12px;\n",
              "    }\n",
              "\n",
              "    .colab-df-convert {\n",
              "      background-color: #E8F0FE;\n",
              "      border: none;\n",
              "      border-radius: 50%;\n",
              "      cursor: pointer;\n",
              "      display: none;\n",
              "      fill: #1967D2;\n",
              "      height: 32px;\n",
              "      padding: 0 0 0 0;\n",
              "      width: 32px;\n",
              "    }\n",
              "\n",
              "    .colab-df-convert:hover {\n",
              "      background-color: #E2EBFA;\n",
              "      box-shadow: 0px 1px 2px rgba(60, 64, 67, 0.3), 0px 1px 3px 1px rgba(60, 64, 67, 0.15);\n",
              "      fill: #174EA6;\n",
              "    }\n",
              "\n",
              "    [theme=dark] .colab-df-convert {\n",
              "      background-color: #3B4455;\n",
              "      fill: #D2E3FC;\n",
              "    }\n",
              "\n",
              "    [theme=dark] .colab-df-convert:hover {\n",
              "      background-color: #434B5C;\n",
              "      box-shadow: 0px 1px 3px 1px rgba(0, 0, 0, 0.15);\n",
              "      filter: drop-shadow(0px 1px 2px rgba(0, 0, 0, 0.3));\n",
              "      fill: #FFFFFF;\n",
              "    }\n",
              "  </style>\n",
              "\n",
              "      <script>\n",
              "        const buttonEl =\n",
              "          document.querySelector('#df-3630a3e5-80a4-4cc9-b98f-6473d968f111 button.colab-df-convert');\n",
              "        buttonEl.style.display =\n",
              "          google.colab.kernel.accessAllowed ? 'block' : 'none';\n",
              "\n",
              "        async function convertToInteractive(key) {\n",
              "          const element = document.querySelector('#df-3630a3e5-80a4-4cc9-b98f-6473d968f111');\n",
              "          const dataTable =\n",
              "            await google.colab.kernel.invokeFunction('convertToInteractive',\n",
              "                                                     [key], {});\n",
              "          if (!dataTable) return;\n",
              "\n",
              "          const docLinkHtml = 'Like what you see? Visit the ' +\n",
              "            '<a target=\"_blank\" href=https://colab.research.google.com/notebooks/data_table.ipynb>data table notebook</a>'\n",
              "            + ' to learn more about interactive tables.';\n",
              "          element.innerHTML = '';\n",
              "          dataTable['output_type'] = 'display_data';\n",
              "          await google.colab.output.renderOutput(dataTable, element);\n",
              "          const docLink = document.createElement('div');\n",
              "          docLink.innerHTML = docLinkHtml;\n",
              "          element.appendChild(docLink);\n",
              "        }\n",
              "      </script>\n",
              "    </div>\n",
              "  </div>\n",
              "  "
            ]
          },
          "metadata": {},
          "execution_count": 13
        }
      ]
    },
    {
      "cell_type": "code",
      "metadata": {
        "id": "kkhvAmS33ELZ",
        "colab": {
          "base_uri": "https://localhost:8080/",
          "height": 487
        },
        "outputId": "f6ab06e4-ea55-4ea0-f643-cf1c2387de7b"
      },
      "source": [
        "X_validation"
      ],
      "execution_count": 14,
      "outputs": [
        {
          "output_type": "execute_result",
          "data": {
            "text/plain": [
              "             0         1         2         3         4         5         6  \\\n",
              "55   -0.839537 -0.285711  0.427719  0.106856  0.176281 -0.156627  0.355157   \n",
              "1189 -0.063992 -1.347501 -0.385959 -0.477053 -1.056851 -0.857857 -0.756275   \n",
              "440  -1.111212  0.181096  1.470441  1.122497  1.037866  1.250657  0.379080   \n",
              "1118 -0.238642 -0.615069 -0.574581  1.717313 -0.516174  0.606042  1.397882   \n",
              "777  -0.489759 -0.212926  0.950158  0.222769  0.530484  0.652340  1.640699   \n",
              "...        ...       ...       ...       ...       ...       ...       ...   \n",
              "1039  1.646645 -2.486877 -1.891034 -2.032905 -1.649258 -1.405369 -0.473062   \n",
              "800  -1.094054 -0.332701  0.745904  1.275663  0.316489 -0.474604 -0.251018   \n",
              "636  -0.657109  0.151086  1.188313  1.538991  0.170830  0.847360  1.414909   \n",
              "1334 -0.305617 -0.444244 -0.068337 -0.336429 -0.096675  0.634270  0.056974   \n",
              "684   0.647955 -0.038114 -0.703524 -1.233728 -0.405442 -0.833454 -1.429405   \n",
              "\n",
              "             7         8         9  ...     249.3     250.3     251.3  \\\n",
              "55    0.316719  0.425986  0.412805  ... -1.298078 -1.290497 -1.248930   \n",
              "1189 -0.441079 -0.322274 -0.266617  ...  0.904717  0.875274  0.837049   \n",
              "440   1.833274 -0.454748  1.333053  ... -1.161062 -1.279906 -1.248930   \n",
              "1118  1.014251 -1.506275  0.716846  ... -0.170332 -0.369117  0.253394   \n",
              "777  -0.190333  0.849345  1.345797  ... -1.298078 -1.290497 -1.248930   \n",
              "...        ...       ...       ...  ...       ...       ...       ...   \n",
              "1039 -1.459623  0.364726 -1.352214  ...  0.931066  1.057961  0.978383   \n",
              "800   0.199853 -0.885497  1.266447  ...  1.516019  1.809892  1.957249   \n",
              "636   1.447360  1.582973  1.532776  ... -1.108364 -0.668301 -0.623398   \n",
              "1334 -0.285175  0.545465 -0.658493  ... -1.298078 -1.290497 -1.248930   \n",
              "684  -0.499000 -0.099243 -1.413156  ... -0.805348 -0.678892 -0.670509   \n",
              "\n",
              "         252.3     253.3     254.3     255.3     256.3     257.3     258.3  \n",
              "55   -1.242408 -1.172589 -1.173887 -1.174144 -1.120929 -1.121910 -1.111606  \n",
              "1189  0.481695  0.491134  0.715112  0.595331  0.645205  0.327520  0.087618  \n",
              "440  -1.242408 -0.786276 -0.759228 -0.636162 -0.483716 -0.819701 -0.735058  \n",
              "1118  0.345028  0.856844  1.214237  1.038975  1.274892  1.304565  1.237726  \n",
              "777  -1.242408 -1.172589 -1.173887 -1.174144 -1.120929 -1.121910 -1.111606  \n",
              "...        ...       ...       ...       ...       ...       ...       ...  \n",
              "1039  0.610477  0.568397  0.113601  0.072648  0.048131 -0.021634  0.095803  \n",
              "800   1.882529  1.951399  1.541869  1.337287  1.435449  1.345642  1.573345  \n",
              "636  -0.619523 -0.742494 -1.161089 -1.171594 -1.120929 -1.121910 -1.111606  \n",
              "1334 -1.242408 -1.172589 -1.173887 -1.174144 -1.120929 -1.121910 -1.111606  \n",
              "684  -0.635292 -0.572516 -0.846255 -1.115501 -0.732078 -0.672998 -0.485390  \n",
              "\n",
              "[231 rows x 1049 columns]"
            ],
            "text/html": [
              "\n",
              "  <div id=\"df-62826d2b-96dc-44a6-8086-27bdd5eb7a84\">\n",
              "    <div class=\"colab-df-container\">\n",
              "      <div>\n",
              "<style scoped>\n",
              "    .dataframe tbody tr th:only-of-type {\n",
              "        vertical-align: middle;\n",
              "    }\n",
              "\n",
              "    .dataframe tbody tr th {\n",
              "        vertical-align: top;\n",
              "    }\n",
              "\n",
              "    .dataframe thead th {\n",
              "        text-align: right;\n",
              "    }\n",
              "</style>\n",
              "<table border=\"1\" class=\"dataframe\">\n",
              "  <thead>\n",
              "    <tr style=\"text-align: right;\">\n",
              "      <th></th>\n",
              "      <th>0</th>\n",
              "      <th>1</th>\n",
              "      <th>2</th>\n",
              "      <th>3</th>\n",
              "      <th>4</th>\n",
              "      <th>5</th>\n",
              "      <th>6</th>\n",
              "      <th>7</th>\n",
              "      <th>8</th>\n",
              "      <th>9</th>\n",
              "      <th>...</th>\n",
              "      <th>249.3</th>\n",
              "      <th>250.3</th>\n",
              "      <th>251.3</th>\n",
              "      <th>252.3</th>\n",
              "      <th>253.3</th>\n",
              "      <th>254.3</th>\n",
              "      <th>255.3</th>\n",
              "      <th>256.3</th>\n",
              "      <th>257.3</th>\n",
              "      <th>258.3</th>\n",
              "    </tr>\n",
              "  </thead>\n",
              "  <tbody>\n",
              "    <tr>\n",
              "      <th>55</th>\n",
              "      <td>-0.839537</td>\n",
              "      <td>-0.285711</td>\n",
              "      <td>0.427719</td>\n",
              "      <td>0.106856</td>\n",
              "      <td>0.176281</td>\n",
              "      <td>-0.156627</td>\n",
              "      <td>0.355157</td>\n",
              "      <td>0.316719</td>\n",
              "      <td>0.425986</td>\n",
              "      <td>0.412805</td>\n",
              "      <td>...</td>\n",
              "      <td>-1.298078</td>\n",
              "      <td>-1.290497</td>\n",
              "      <td>-1.248930</td>\n",
              "      <td>-1.242408</td>\n",
              "      <td>-1.172589</td>\n",
              "      <td>-1.173887</td>\n",
              "      <td>-1.174144</td>\n",
              "      <td>-1.120929</td>\n",
              "      <td>-1.121910</td>\n",
              "      <td>-1.111606</td>\n",
              "    </tr>\n",
              "    <tr>\n",
              "      <th>1189</th>\n",
              "      <td>-0.063992</td>\n",
              "      <td>-1.347501</td>\n",
              "      <td>-0.385959</td>\n",
              "      <td>-0.477053</td>\n",
              "      <td>-1.056851</td>\n",
              "      <td>-0.857857</td>\n",
              "      <td>-0.756275</td>\n",
              "      <td>-0.441079</td>\n",
              "      <td>-0.322274</td>\n",
              "      <td>-0.266617</td>\n",
              "      <td>...</td>\n",
              "      <td>0.904717</td>\n",
              "      <td>0.875274</td>\n",
              "      <td>0.837049</td>\n",
              "      <td>0.481695</td>\n",
              "      <td>0.491134</td>\n",
              "      <td>0.715112</td>\n",
              "      <td>0.595331</td>\n",
              "      <td>0.645205</td>\n",
              "      <td>0.327520</td>\n",
              "      <td>0.087618</td>\n",
              "    </tr>\n",
              "    <tr>\n",
              "      <th>440</th>\n",
              "      <td>-1.111212</td>\n",
              "      <td>0.181096</td>\n",
              "      <td>1.470441</td>\n",
              "      <td>1.122497</td>\n",
              "      <td>1.037866</td>\n",
              "      <td>1.250657</td>\n",
              "      <td>0.379080</td>\n",
              "      <td>1.833274</td>\n",
              "      <td>-0.454748</td>\n",
              "      <td>1.333053</td>\n",
              "      <td>...</td>\n",
              "      <td>-1.161062</td>\n",
              "      <td>-1.279906</td>\n",
              "      <td>-1.248930</td>\n",
              "      <td>-1.242408</td>\n",
              "      <td>-0.786276</td>\n",
              "      <td>-0.759228</td>\n",
              "      <td>-0.636162</td>\n",
              "      <td>-0.483716</td>\n",
              "      <td>-0.819701</td>\n",
              "      <td>-0.735058</td>\n",
              "    </tr>\n",
              "    <tr>\n",
              "      <th>1118</th>\n",
              "      <td>-0.238642</td>\n",
              "      <td>-0.615069</td>\n",
              "      <td>-0.574581</td>\n",
              "      <td>1.717313</td>\n",
              "      <td>-0.516174</td>\n",
              "      <td>0.606042</td>\n",
              "      <td>1.397882</td>\n",
              "      <td>1.014251</td>\n",
              "      <td>-1.506275</td>\n",
              "      <td>0.716846</td>\n",
              "      <td>...</td>\n",
              "      <td>-0.170332</td>\n",
              "      <td>-0.369117</td>\n",
              "      <td>0.253394</td>\n",
              "      <td>0.345028</td>\n",
              "      <td>0.856844</td>\n",
              "      <td>1.214237</td>\n",
              "      <td>1.038975</td>\n",
              "      <td>1.274892</td>\n",
              "      <td>1.304565</td>\n",
              "      <td>1.237726</td>\n",
              "    </tr>\n",
              "    <tr>\n",
              "      <th>777</th>\n",
              "      <td>-0.489759</td>\n",
              "      <td>-0.212926</td>\n",
              "      <td>0.950158</td>\n",
              "      <td>0.222769</td>\n",
              "      <td>0.530484</td>\n",
              "      <td>0.652340</td>\n",
              "      <td>1.640699</td>\n",
              "      <td>-0.190333</td>\n",
              "      <td>0.849345</td>\n",
              "      <td>1.345797</td>\n",
              "      <td>...</td>\n",
              "      <td>-1.298078</td>\n",
              "      <td>-1.290497</td>\n",
              "      <td>-1.248930</td>\n",
              "      <td>-1.242408</td>\n",
              "      <td>-1.172589</td>\n",
              "      <td>-1.173887</td>\n",
              "      <td>-1.174144</td>\n",
              "      <td>-1.120929</td>\n",
              "      <td>-1.121910</td>\n",
              "      <td>-1.111606</td>\n",
              "    </tr>\n",
              "    <tr>\n",
              "      <th>...</th>\n",
              "      <td>...</td>\n",
              "      <td>...</td>\n",
              "      <td>...</td>\n",
              "      <td>...</td>\n",
              "      <td>...</td>\n",
              "      <td>...</td>\n",
              "      <td>...</td>\n",
              "      <td>...</td>\n",
              "      <td>...</td>\n",
              "      <td>...</td>\n",
              "      <td>...</td>\n",
              "      <td>...</td>\n",
              "      <td>...</td>\n",
              "      <td>...</td>\n",
              "      <td>...</td>\n",
              "      <td>...</td>\n",
              "      <td>...</td>\n",
              "      <td>...</td>\n",
              "      <td>...</td>\n",
              "      <td>...</td>\n",
              "      <td>...</td>\n",
              "    </tr>\n",
              "    <tr>\n",
              "      <th>1039</th>\n",
              "      <td>1.646645</td>\n",
              "      <td>-2.486877</td>\n",
              "      <td>-1.891034</td>\n",
              "      <td>-2.032905</td>\n",
              "      <td>-1.649258</td>\n",
              "      <td>-1.405369</td>\n",
              "      <td>-0.473062</td>\n",
              "      <td>-1.459623</td>\n",
              "      <td>0.364726</td>\n",
              "      <td>-1.352214</td>\n",
              "      <td>...</td>\n",
              "      <td>0.931066</td>\n",
              "      <td>1.057961</td>\n",
              "      <td>0.978383</td>\n",
              "      <td>0.610477</td>\n",
              "      <td>0.568397</td>\n",
              "      <td>0.113601</td>\n",
              "      <td>0.072648</td>\n",
              "      <td>0.048131</td>\n",
              "      <td>-0.021634</td>\n",
              "      <td>0.095803</td>\n",
              "    </tr>\n",
              "    <tr>\n",
              "      <th>800</th>\n",
              "      <td>-1.094054</td>\n",
              "      <td>-0.332701</td>\n",
              "      <td>0.745904</td>\n",
              "      <td>1.275663</td>\n",
              "      <td>0.316489</td>\n",
              "      <td>-0.474604</td>\n",
              "      <td>-0.251018</td>\n",
              "      <td>0.199853</td>\n",
              "      <td>-0.885497</td>\n",
              "      <td>1.266447</td>\n",
              "      <td>...</td>\n",
              "      <td>1.516019</td>\n",
              "      <td>1.809892</td>\n",
              "      <td>1.957249</td>\n",
              "      <td>1.882529</td>\n",
              "      <td>1.951399</td>\n",
              "      <td>1.541869</td>\n",
              "      <td>1.337287</td>\n",
              "      <td>1.435449</td>\n",
              "      <td>1.345642</td>\n",
              "      <td>1.573345</td>\n",
              "    </tr>\n",
              "    <tr>\n",
              "      <th>636</th>\n",
              "      <td>-0.657109</td>\n",
              "      <td>0.151086</td>\n",
              "      <td>1.188313</td>\n",
              "      <td>1.538991</td>\n",
              "      <td>0.170830</td>\n",
              "      <td>0.847360</td>\n",
              "      <td>1.414909</td>\n",
              "      <td>1.447360</td>\n",
              "      <td>1.582973</td>\n",
              "      <td>1.532776</td>\n",
              "      <td>...</td>\n",
              "      <td>-1.108364</td>\n",
              "      <td>-0.668301</td>\n",
              "      <td>-0.623398</td>\n",
              "      <td>-0.619523</td>\n",
              "      <td>-0.742494</td>\n",
              "      <td>-1.161089</td>\n",
              "      <td>-1.171594</td>\n",
              "      <td>-1.120929</td>\n",
              "      <td>-1.121910</td>\n",
              "      <td>-1.111606</td>\n",
              "    </tr>\n",
              "    <tr>\n",
              "      <th>1334</th>\n",
              "      <td>-0.305617</td>\n",
              "      <td>-0.444244</td>\n",
              "      <td>-0.068337</td>\n",
              "      <td>-0.336429</td>\n",
              "      <td>-0.096675</td>\n",
              "      <td>0.634270</td>\n",
              "      <td>0.056974</td>\n",
              "      <td>-0.285175</td>\n",
              "      <td>0.545465</td>\n",
              "      <td>-0.658493</td>\n",
              "      <td>...</td>\n",
              "      <td>-1.298078</td>\n",
              "      <td>-1.290497</td>\n",
              "      <td>-1.248930</td>\n",
              "      <td>-1.242408</td>\n",
              "      <td>-1.172589</td>\n",
              "      <td>-1.173887</td>\n",
              "      <td>-1.174144</td>\n",
              "      <td>-1.120929</td>\n",
              "      <td>-1.121910</td>\n",
              "      <td>-1.111606</td>\n",
              "    </tr>\n",
              "    <tr>\n",
              "      <th>684</th>\n",
              "      <td>0.647955</td>\n",
              "      <td>-0.038114</td>\n",
              "      <td>-0.703524</td>\n",
              "      <td>-1.233728</td>\n",
              "      <td>-0.405442</td>\n",
              "      <td>-0.833454</td>\n",
              "      <td>-1.429405</td>\n",
              "      <td>-0.499000</td>\n",
              "      <td>-0.099243</td>\n",
              "      <td>-1.413156</td>\n",
              "      <td>...</td>\n",
              "      <td>-0.805348</td>\n",
              "      <td>-0.678892</td>\n",
              "      <td>-0.670509</td>\n",
              "      <td>-0.635292</td>\n",
              "      <td>-0.572516</td>\n",
              "      <td>-0.846255</td>\n",
              "      <td>-1.115501</td>\n",
              "      <td>-0.732078</td>\n",
              "      <td>-0.672998</td>\n",
              "      <td>-0.485390</td>\n",
              "    </tr>\n",
              "  </tbody>\n",
              "</table>\n",
              "<p>231 rows × 1049 columns</p>\n",
              "</div>\n",
              "      <button class=\"colab-df-convert\" onclick=\"convertToInteractive('df-62826d2b-96dc-44a6-8086-27bdd5eb7a84')\"\n",
              "              title=\"Convert this dataframe to an interactive table.\"\n",
              "              style=\"display:none;\">\n",
              "        \n",
              "  <svg xmlns=\"http://www.w3.org/2000/svg\" height=\"24px\"viewBox=\"0 0 24 24\"\n",
              "       width=\"24px\">\n",
              "    <path d=\"M0 0h24v24H0V0z\" fill=\"none\"/>\n",
              "    <path d=\"M18.56 5.44l.94 2.06.94-2.06 2.06-.94-2.06-.94-.94-2.06-.94 2.06-2.06.94zm-11 1L8.5 8.5l.94-2.06 2.06-.94-2.06-.94L8.5 2.5l-.94 2.06-2.06.94zm10 10l.94 2.06.94-2.06 2.06-.94-2.06-.94-.94-2.06-.94 2.06-2.06.94z\"/><path d=\"M17.41 7.96l-1.37-1.37c-.4-.4-.92-.59-1.43-.59-.52 0-1.04.2-1.43.59L10.3 9.45l-7.72 7.72c-.78.78-.78 2.05 0 2.83L4 21.41c.39.39.9.59 1.41.59.51 0 1.02-.2 1.41-.59l7.78-7.78 2.81-2.81c.8-.78.8-2.07 0-2.86zM5.41 20L4 18.59l7.72-7.72 1.47 1.35L5.41 20z\"/>\n",
              "  </svg>\n",
              "      </button>\n",
              "      \n",
              "  <style>\n",
              "    .colab-df-container {\n",
              "      display:flex;\n",
              "      flex-wrap:wrap;\n",
              "      gap: 12px;\n",
              "    }\n",
              "\n",
              "    .colab-df-convert {\n",
              "      background-color: #E8F0FE;\n",
              "      border: none;\n",
              "      border-radius: 50%;\n",
              "      cursor: pointer;\n",
              "      display: none;\n",
              "      fill: #1967D2;\n",
              "      height: 32px;\n",
              "      padding: 0 0 0 0;\n",
              "      width: 32px;\n",
              "    }\n",
              "\n",
              "    .colab-df-convert:hover {\n",
              "      background-color: #E2EBFA;\n",
              "      box-shadow: 0px 1px 2px rgba(60, 64, 67, 0.3), 0px 1px 3px 1px rgba(60, 64, 67, 0.15);\n",
              "      fill: #174EA6;\n",
              "    }\n",
              "\n",
              "    [theme=dark] .colab-df-convert {\n",
              "      background-color: #3B4455;\n",
              "      fill: #D2E3FC;\n",
              "    }\n",
              "\n",
              "    [theme=dark] .colab-df-convert:hover {\n",
              "      background-color: #434B5C;\n",
              "      box-shadow: 0px 1px 3px 1px rgba(0, 0, 0, 0.15);\n",
              "      filter: drop-shadow(0px 1px 2px rgba(0, 0, 0, 0.3));\n",
              "      fill: #FFFFFF;\n",
              "    }\n",
              "  </style>\n",
              "\n",
              "      <script>\n",
              "        const buttonEl =\n",
              "          document.querySelector('#df-62826d2b-96dc-44a6-8086-27bdd5eb7a84 button.colab-df-convert');\n",
              "        buttonEl.style.display =\n",
              "          google.colab.kernel.accessAllowed ? 'block' : 'none';\n",
              "\n",
              "        async function convertToInteractive(key) {\n",
              "          const element = document.querySelector('#df-62826d2b-96dc-44a6-8086-27bdd5eb7a84');\n",
              "          const dataTable =\n",
              "            await google.colab.kernel.invokeFunction('convertToInteractive',\n",
              "                                                     [key], {});\n",
              "          if (!dataTable) return;\n",
              "\n",
              "          const docLinkHtml = 'Like what you see? Visit the ' +\n",
              "            '<a target=\"_blank\" href=https://colab.research.google.com/notebooks/data_table.ipynb>data table notebook</a>'\n",
              "            + ' to learn more about interactive tables.';\n",
              "          element.innerHTML = '';\n",
              "          dataTable['output_type'] = 'display_data';\n",
              "          await google.colab.output.renderOutput(dataTable, element);\n",
              "          const docLink = document.createElement('div');\n",
              "          docLink.innerHTML = docLinkHtml;\n",
              "          element.appendChild(docLink);\n",
              "        }\n",
              "      </script>\n",
              "    </div>\n",
              "  </div>\n",
              "  "
            ]
          },
          "metadata": {},
          "execution_count": 14
        }
      ]
    },
    {
      "cell_type": "code",
      "metadata": {
        "id": "y4_ooe6Qq-R8"
      },
      "source": [
        "# TURN DATA INTO ND ARRAYS FOR KERAS\n",
        "\n",
        "X_train = np.array(X_train)\n",
        "y_train = np.array(y_train)\n",
        "X_test = np.array(X_test)\n",
        "y_test = np.array(y_test)\n",
        "X_validation = np.array(X_validation)\n",
        "y_validation = np.array(y_validation)"
      ],
      "execution_count": 15,
      "outputs": []
    },
    {
      "cell_type": "code",
      "metadata": {
        "id": "uY25LElOrDFl"
      },
      "source": [
        "# ONE HOT ENCODE THE TARGET\n",
        "\n",
        "lb = LabelEncoder()\n",
        "y_train = to_categorical(lb.fit_transform(y_train))\n",
        "y_test = to_categorical(lb.fit_transform(y_test))\n",
        "y_validation = to_categorical(lb.fit_transform(y_validation))"
      ],
      "execution_count": 16,
      "outputs": []
    },
    {
      "cell_type": "code",
      "metadata": {
        "id": "eUy0MZRj3gU1",
        "colab": {
          "base_uri": "https://localhost:8080/"
        },
        "outputId": "bafac11f-37f0-4cd9-b389-4628294d54fa"
      },
      "source": [
        "print(y_train[0:10])\n",
        "print(y_test[0:10])\n",
        "print(y_validation[0:10])"
      ],
      "execution_count": 17,
      "outputs": [
        {
          "output_type": "stream",
          "name": "stdout",
          "text": [
            "[[0. 0. 0. 0. 1. 0. 0. 0.]\n",
            " [0. 0. 0. 0. 0. 0. 1. 0.]\n",
            " [0. 0. 0. 0. 1. 0. 0. 0.]\n",
            " [1. 0. 0. 0. 0. 0. 0. 0.]\n",
            " [0. 0. 0. 0. 0. 0. 0. 1.]\n",
            " [0. 0. 0. 0. 0. 1. 0. 0.]\n",
            " [0. 0. 0. 0. 1. 0. 0. 0.]\n",
            " [1. 0. 0. 0. 0. 0. 0. 0.]\n",
            " [0. 0. 0. 0. 0. 1. 0. 0.]\n",
            " [0. 1. 0. 0. 0. 0. 0. 0.]]\n",
            "[[0. 0. 1. 0. 0. 0. 0. 0.]\n",
            " [0. 0. 1. 0. 0. 0. 0. 0.]\n",
            " [0. 0. 0. 0. 0. 1. 0. 0.]\n",
            " [0. 0. 0. 0. 1. 0. 0. 0.]\n",
            " [0. 0. 0. 0. 0. 0. 1. 0.]\n",
            " [0. 0. 0. 0. 1. 0. 0. 0.]\n",
            " [1. 0. 0. 0. 0. 0. 0. 0.]\n",
            " [0. 0. 0. 0. 0. 0. 1. 0.]\n",
            " [0. 1. 0. 0. 0. 0. 0. 0.]\n",
            " [1. 0. 0. 0. 0. 0. 0. 0.]]\n",
            "[[0. 0. 0. 0. 0. 0. 0. 1.]\n",
            " [0. 0. 1. 0. 0. 0. 0. 0.]\n",
            " [0. 0. 0. 0. 0. 0. 1. 0.]\n",
            " [0. 0. 0. 1. 0. 0. 0. 0.]\n",
            " [0. 0. 0. 0. 0. 0. 0. 1.]\n",
            " [0. 0. 0. 0. 0. 0. 1. 0.]\n",
            " [0. 0. 0. 0. 0. 0. 0. 1.]\n",
            " [0. 1. 0. 0. 0. 0. 0. 0.]\n",
            " [0. 0. 0. 0. 0. 0. 0. 1.]\n",
            " [0. 0. 0. 0. 0. 0. 0. 1.]]\n"
          ]
        }
      ]
    },
    {
      "cell_type": "code",
      "metadata": {
        "id": "WVaNaWUerhj1",
        "colab": {
          "base_uri": "https://localhost:8080/"
        },
        "outputId": "99ec4597-e32b-4c66-ce13-e80567de2f22"
      },
      "source": [
        "X_train.shape"
      ],
      "execution_count": 18,
      "outputs": [
        {
          "output_type": "execute_result",
          "data": {
            "text/plain": [
              "(921, 1049)"
            ]
          },
          "metadata": {},
          "execution_count": 18
        }
      ]
    },
    {
      "cell_type": "code",
      "metadata": {
        "id": "qX293KxQrk9t",
        "colab": {
          "base_uri": "https://localhost:8080/"
        },
        "outputId": "a72619fd-b955-4f54-b44c-ee382493df38"
      },
      "source": [
        "X_test.shape"
      ],
      "execution_count": 19,
      "outputs": [
        {
          "output_type": "execute_result",
          "data": {
            "text/plain": [
              "(288, 1049)"
            ]
          },
          "metadata": {},
          "execution_count": 19
        }
      ]
    },
    {
      "cell_type": "code",
      "metadata": {
        "id": "Sypk7-t038-t",
        "colab": {
          "base_uri": "https://localhost:8080/"
        },
        "outputId": "f2e542c8-11be-4d13-b33a-3bf8828883e3"
      },
      "source": [
        "\n",
        "X_validation.shape"
      ],
      "execution_count": 20,
      "outputs": [
        {
          "output_type": "execute_result",
          "data": {
            "text/plain": [
              "(231, 1049)"
            ]
          },
          "metadata": {},
          "execution_count": 20
        }
      ]
    },
    {
      "cell_type": "markdown",
      "metadata": {
        "id": "tt7qrsQUlrz2"
      },
      "source": [
        "## **Model Building**"
      ]
    },
    {
      "cell_type": "markdown",
      "source": [
        "### ANN Approach"
      ],
      "metadata": {
        "id": "XEJs4kzPe7l4"
      }
    },
    {
      "cell_type": "code",
      "metadata": {
        "id": "vxP-lpwqlwyt"
      },
      "source": [
        "model_3 = Sequential()\n",
        "\n",
        "###first layer\n",
        "model_3.add(Dense(10,input_shape=(X_train.shape[1],)))\n",
        "model_3.add(Activation('relu'))\n",
        "model_3.add(Dropout(0.1))\n",
        "\n",
        "###second layer\n",
        "model_3.add(Dense(1024))\n",
        "model_3.add(Activation('relu'))\n",
        "model_3.add(Dropout(0.1))\n",
        "\n",
        "###final layer\n",
        "model_3.add(Dense(8))\n",
        "model_3.add(Activation('softmax'))\n"
      ],
      "execution_count": 21,
      "outputs": []
    },
    {
      "cell_type": "code",
      "metadata": {
        "id": "5ib_JkUsrwv9",
        "colab": {
          "base_uri": "https://localhost:8080/"
        },
        "outputId": "5c6209ff-fabc-4799-cd13-4fc68dd87848"
      },
      "source": [
        "opt = tf.keras.optimizers.Adam(learning_rate=0.0001)\n",
        "\n",
        "model_3.compile(loss='categorical_crossentropy', optimizer=opt,metrics=['accuracy'])\n",
        "# model.compile(loss='categorical_crossentropy', optimizer='adam',metrics=['accuracy'])\n",
        "model_3.summary()"
      ],
      "execution_count": 22,
      "outputs": [
        {
          "output_type": "stream",
          "name": "stdout",
          "text": [
            "Model: \"sequential\"\n",
            "_________________________________________________________________\n",
            " Layer (type)                Output Shape              Param #   \n",
            "=================================================================\n",
            " dense (Dense)               (None, 10)                10500     \n",
            "                                                                 \n",
            " activation (Activation)     (None, 10)                0         \n",
            "                                                                 \n",
            " dropout (Dropout)           (None, 10)                0         \n",
            "                                                                 \n",
            " dense_1 (Dense)             (None, 1024)              11264     \n",
            "                                                                 \n",
            " activation_1 (Activation)   (None, 1024)              0         \n",
            "                                                                 \n",
            " dropout_1 (Dropout)         (None, 1024)              0         \n",
            "                                                                 \n",
            " dense_2 (Dense)             (None, 8)                 8200      \n",
            "                                                                 \n",
            " activation_2 (Activation)   (None, 8)                 0         \n",
            "                                                                 \n",
            "=================================================================\n",
            "Total params: 29,964\n",
            "Trainable params: 29,964\n",
            "Non-trainable params: 0\n",
            "_________________________________________________________________\n"
          ]
        }
      ]
    },
    {
      "cell_type": "code",
      "metadata": {
        "id": "6aKDshExXz8P"
      },
      "source": [
        "from tensorflow.keras.callbacks import EarlyStopping\n",
        "early_stop = EarlyStopping(monitor='val_loss',patience=15)"
      ],
      "execution_count": 23,
      "outputs": []
    },
    {
      "cell_type": "code",
      "metadata": {
        "id": "CWbgZbAnsmXo",
        "colab": {
          "base_uri": "https://localhost:8080/"
        },
        "outputId": "bd3cd44f-99c7-4c9e-fab0-ae5507948867"
      },
      "source": [
        "\n",
        "history = model_3.fit(X_train, y_train, validation_data=(X_validation, y_validation), batch_size=32, epochs=100, callbacks=[early_stop])"
      ],
      "execution_count": 24,
      "outputs": [
        {
          "output_type": "stream",
          "name": "stdout",
          "text": [
            "Epoch 1/100\n",
            "29/29 [==============================] - 5s 20ms/step - loss: 2.0608 - accuracy: 0.1357 - val_loss: 2.0204 - val_accuracy: 0.1861\n",
            "Epoch 2/100\n",
            "29/29 [==============================] - 0s 6ms/step - loss: 2.0009 - accuracy: 0.2096 - val_loss: 1.9540 - val_accuracy: 0.2554\n",
            "Epoch 3/100\n",
            "29/29 [==============================] - 0s 7ms/step - loss: 1.9222 - accuracy: 0.2780 - val_loss: 1.8670 - val_accuracy: 0.3160\n",
            "Epoch 4/100\n",
            "29/29 [==============================] - 0s 8ms/step - loss: 1.8223 - accuracy: 0.3138 - val_loss: 1.7849 - val_accuracy: 0.3333\n",
            "Epoch 5/100\n",
            "29/29 [==============================] - 0s 6ms/step - loss: 1.7503 - accuracy: 0.3333 - val_loss: 1.7245 - val_accuracy: 0.3247\n",
            "Epoch 6/100\n",
            "29/29 [==============================] - 0s 6ms/step - loss: 1.6929 - accuracy: 0.3561 - val_loss: 1.6818 - val_accuracy: 0.3506\n",
            "Epoch 7/100\n",
            "29/29 [==============================] - 0s 8ms/step - loss: 1.6468 - accuracy: 0.3757 - val_loss: 1.6453 - val_accuracy: 0.3636\n",
            "Epoch 8/100\n",
            "29/29 [==============================] - 0s 8ms/step - loss: 1.5973 - accuracy: 0.3811 - val_loss: 1.6224 - val_accuracy: 0.3766\n",
            "Epoch 9/100\n",
            "29/29 [==============================] - 0s 8ms/step - loss: 1.5796 - accuracy: 0.3833 - val_loss: 1.5972 - val_accuracy: 0.3853\n",
            "Epoch 10/100\n",
            "29/29 [==============================] - 0s 7ms/step - loss: 1.5469 - accuracy: 0.4028 - val_loss: 1.5772 - val_accuracy: 0.3983\n",
            "Epoch 11/100\n",
            "29/29 [==============================] - 0s 6ms/step - loss: 1.5370 - accuracy: 0.4072 - val_loss: 1.5615 - val_accuracy: 0.3939\n",
            "Epoch 12/100\n",
            "29/29 [==============================] - 0s 7ms/step - loss: 1.4932 - accuracy: 0.4419 - val_loss: 1.5411 - val_accuracy: 0.3939\n",
            "Epoch 13/100\n",
            "29/29 [==============================] - 0s 7ms/step - loss: 1.4776 - accuracy: 0.4376 - val_loss: 1.5261 - val_accuracy: 0.3983\n",
            "Epoch 14/100\n",
            "29/29 [==============================] - 0s 7ms/step - loss: 1.4521 - accuracy: 0.4473 - val_loss: 1.5162 - val_accuracy: 0.3983\n",
            "Epoch 15/100\n",
            "29/29 [==============================] - 0s 8ms/step - loss: 1.4124 - accuracy: 0.4701 - val_loss: 1.5003 - val_accuracy: 0.4026\n",
            "Epoch 16/100\n",
            "29/29 [==============================] - 0s 7ms/step - loss: 1.4063 - accuracy: 0.4604 - val_loss: 1.4905 - val_accuracy: 0.3983\n",
            "Epoch 17/100\n",
            "29/29 [==============================] - 0s 7ms/step - loss: 1.3842 - accuracy: 0.4886 - val_loss: 1.4869 - val_accuracy: 0.4156\n",
            "Epoch 18/100\n",
            "29/29 [==============================] - 0s 7ms/step - loss: 1.3476 - accuracy: 0.4897 - val_loss: 1.4737 - val_accuracy: 0.4156\n",
            "Epoch 19/100\n",
            "29/29 [==============================] - 0s 7ms/step - loss: 1.3263 - accuracy: 0.5016 - val_loss: 1.4656 - val_accuracy: 0.4329\n",
            "Epoch 20/100\n",
            "29/29 [==============================] - 0s 7ms/step - loss: 1.3298 - accuracy: 0.5027 - val_loss: 1.4583 - val_accuracy: 0.4286\n",
            "Epoch 21/100\n",
            "29/29 [==============================] - 0s 8ms/step - loss: 1.3065 - accuracy: 0.5114 - val_loss: 1.4531 - val_accuracy: 0.4242\n",
            "Epoch 22/100\n",
            "29/29 [==============================] - 0s 9ms/step - loss: 1.2691 - accuracy: 0.5147 - val_loss: 1.4451 - val_accuracy: 0.4329\n",
            "Epoch 23/100\n",
            "29/29 [==============================] - 0s 6ms/step - loss: 1.2699 - accuracy: 0.5179 - val_loss: 1.4415 - val_accuracy: 0.4242\n",
            "Epoch 24/100\n",
            "29/29 [==============================] - 0s 9ms/step - loss: 1.2545 - accuracy: 0.5157 - val_loss: 1.4354 - val_accuracy: 0.4199\n",
            "Epoch 25/100\n",
            "29/29 [==============================] - 0s 6ms/step - loss: 1.2295 - accuracy: 0.5320 - val_loss: 1.4361 - val_accuracy: 0.4156\n",
            "Epoch 26/100\n",
            "29/29 [==============================] - 0s 11ms/step - loss: 1.2010 - accuracy: 0.5548 - val_loss: 1.4333 - val_accuracy: 0.4242\n",
            "Epoch 27/100\n",
            "29/29 [==============================] - 0s 11ms/step - loss: 1.2034 - accuracy: 0.5548 - val_loss: 1.4319 - val_accuracy: 0.4242\n",
            "Epoch 28/100\n",
            "29/29 [==============================] - 0s 11ms/step - loss: 1.1919 - accuracy: 0.5472 - val_loss: 1.4333 - val_accuracy: 0.4156\n",
            "Epoch 29/100\n",
            "29/29 [==============================] - 0s 8ms/step - loss: 1.1679 - accuracy: 0.5646 - val_loss: 1.4365 - val_accuracy: 0.4113\n",
            "Epoch 30/100\n",
            "29/29 [==============================] - 0s 7ms/step - loss: 1.1670 - accuracy: 0.5711 - val_loss: 1.4296 - val_accuracy: 0.4286\n",
            "Epoch 31/100\n",
            "29/29 [==============================] - 0s 10ms/step - loss: 1.1337 - accuracy: 0.5657 - val_loss: 1.4302 - val_accuracy: 0.4286\n",
            "Epoch 32/100\n",
            "29/29 [==============================] - 0s 9ms/step - loss: 1.1397 - accuracy: 0.5689 - val_loss: 1.4288 - val_accuracy: 0.4156\n",
            "Epoch 33/100\n",
            "29/29 [==============================] - 0s 7ms/step - loss: 1.1263 - accuracy: 0.5689 - val_loss: 1.4240 - val_accuracy: 0.4242\n",
            "Epoch 34/100\n",
            "29/29 [==============================] - 0s 10ms/step - loss: 1.1091 - accuracy: 0.5950 - val_loss: 1.4259 - val_accuracy: 0.4199\n",
            "Epoch 35/100\n",
            "29/29 [==============================] - 0s 9ms/step - loss: 1.0994 - accuracy: 0.5809 - val_loss: 1.4321 - val_accuracy: 0.4199\n",
            "Epoch 36/100\n",
            "29/29 [==============================] - 0s 8ms/step - loss: 1.0820 - accuracy: 0.6059 - val_loss: 1.4338 - val_accuracy: 0.4069\n",
            "Epoch 37/100\n",
            "29/29 [==============================] - 0s 9ms/step - loss: 1.0870 - accuracy: 0.6026 - val_loss: 1.4332 - val_accuracy: 0.4113\n",
            "Epoch 38/100\n",
            "29/29 [==============================] - 0s 10ms/step - loss: 1.0413 - accuracy: 0.6178 - val_loss: 1.4335 - val_accuracy: 0.4069\n",
            "Epoch 39/100\n",
            "29/29 [==============================] - 0s 8ms/step - loss: 1.0481 - accuracy: 0.6015 - val_loss: 1.4379 - val_accuracy: 0.4069\n",
            "Epoch 40/100\n",
            "29/29 [==============================] - 0s 8ms/step - loss: 1.0728 - accuracy: 0.6080 - val_loss: 1.4368 - val_accuracy: 0.4026\n",
            "Epoch 41/100\n",
            "29/29 [==============================] - 0s 7ms/step - loss: 1.0207 - accuracy: 0.6102 - val_loss: 1.4389 - val_accuracy: 0.4069\n",
            "Epoch 42/100\n",
            "29/29 [==============================] - 0s 9ms/step - loss: 1.0295 - accuracy: 0.6265 - val_loss: 1.4408 - val_accuracy: 0.4069\n",
            "Epoch 43/100\n",
            "29/29 [==============================] - 0s 9ms/step - loss: 1.0167 - accuracy: 0.6243 - val_loss: 1.4384 - val_accuracy: 0.4069\n",
            "Epoch 44/100\n",
            "29/29 [==============================] - 0s 12ms/step - loss: 0.9908 - accuracy: 0.6298 - val_loss: 1.4411 - val_accuracy: 0.4156\n",
            "Epoch 45/100\n",
            "29/29 [==============================] - 0s 9ms/step - loss: 0.9892 - accuracy: 0.6287 - val_loss: 1.4377 - val_accuracy: 0.4069\n",
            "Epoch 46/100\n",
            "29/29 [==============================] - 0s 10ms/step - loss: 0.9742 - accuracy: 0.6395 - val_loss: 1.4480 - val_accuracy: 0.4113\n",
            "Epoch 47/100\n",
            "29/29 [==============================] - 0s 6ms/step - loss: 0.9722 - accuracy: 0.6417 - val_loss: 1.4494 - val_accuracy: 0.4069\n",
            "Epoch 48/100\n",
            "29/29 [==============================] - 0s 7ms/step - loss: 0.9547 - accuracy: 0.6536 - val_loss: 1.4558 - val_accuracy: 0.4113\n"
          ]
        }
      ]
    },
    {
      "cell_type": "code",
      "metadata": {
        "id": "FcffYQB1s29-",
        "colab": {
          "base_uri": "https://localhost:8080/"
        },
        "outputId": "74c28c6d-6e6d-456a-dcef-6b25cb9d253d"
      },
      "source": [
        "model_3.evaluate(X_test, y_test)"
      ],
      "execution_count": 25,
      "outputs": [
        {
          "output_type": "stream",
          "name": "stdout",
          "text": [
            "9/9 [==============================] - 0s 3ms/step - loss: 1.4848 - accuracy: 0.4653\n"
          ]
        },
        {
          "output_type": "execute_result",
          "data": {
            "text/plain": [
              "[1.4848076105117798, 0.4652777910232544]"
            ]
          },
          "metadata": {},
          "execution_count": 25
        }
      ]
    },
    {
      "cell_type": "code",
      "metadata": {
        "id": "Smne1fG6AzPo"
      },
      "source": [
        "metrics = pd.DataFrame(history.history)"
      ],
      "execution_count": 26,
      "outputs": []
    },
    {
      "cell_type": "code",
      "metadata": {
        "colab": {
          "base_uri": "https://localhost:8080/",
          "height": 282
        },
        "id": "rtjc5MniZvwO",
        "outputId": "817a5ffb-9493-4dc4-bdcc-a2790a8caca7"
      },
      "source": [
        "metrics[['accuracy', 'val_accuracy']].plot()"
      ],
      "execution_count": 27,
      "outputs": [
        {
          "output_type": "execute_result",
          "data": {
            "text/plain": [
              "<matplotlib.axes._subplots.AxesSubplot at 0x7f62c00cb710>"
            ]
          },
          "metadata": {},
          "execution_count": 27
        },
        {
          "output_type": "display_data",
          "data": {
            "text/plain": [
              "<Figure size 432x288 with 1 Axes>"
            ],
            "image/png": "[encoded data removed]"
          },
          "metadata": {
            "needs_background": "light"
          }
        }
      ]
    },
    {
      "cell_type": "code",
      "metadata": {
        "colab": {
          "base_uri": "https://localhost:8080/",
          "height": 282
        },
        "id": "Kbzy9NnDZ79r",
        "outputId": "2161c9af-925d-4078-a6d5-993c16fb7da9"
      },
      "source": [
        "metrics[['loss', 'val_loss']].plot()"
      ],
      "execution_count": 28,
      "outputs": [
        {
          "output_type": "execute_result",
          "data": {
            "text/plain": [
              "<matplotlib.axes._subplots.AxesSubplot at 0x7f625a488310>"
            ]
          },
          "metadata": {},
          "execution_count": 28
        },
        {
          "output_type": "display_data",
          "data": {
            "text/plain": [
              "<Figure size 432x288 with 1 Axes>"
            ],
            "image/png": "[encoded data removed]"
          },
          "metadata": {
            "needs_background": "light"
          }
        }
      ]
    },
    {
      "cell_type": "code",
      "source": [
        "model3_pred = model_3.predict(X_test)\n",
        "y_pred = np.argmax(model3_pred, axis=1)\n",
        "cm = confusion_matrix(y_test, y_pred)\n",
        "# y_test = np.argmax(y_test, axis=1)"
      ],
      "metadata": {
        "id": "2-v_YL1k1SvF"
      },
      "execution_count": 49,
      "outputs": []
    },
    {
      "cell_type": "code",
      "source": [
        "plt.figure(figsize=(5,4))\n",
        "sns.heatmap(cm, annot=True, fmt='d')\n",
        "plt.title('Confusion Matrix for the CNN Model')\n",
        "plt.ylabel('Actal Values')\n",
        "plt.xlabel('Predicted Values')\n",
        "plt.show()"
      ],
      "metadata": {
        "id": "HpvSryTo1zsh",
        "outputId": "286281dc-4ea6-4cbb-e8d6-dda04a0add4a",
        "colab": {
          "base_uri": "https://localhost:8080/",
          "height": 295
        }
      },
      "execution_count": 50,
      "outputs": [
        {
          "output_type": "display_data",
          "data": {
            "text/plain": [
              "<Figure size 360x288 with 2 Axes>"
            ],
            "image/png": "[encoded data removed]"
          },
          "metadata": {
            "needs_background": "light"
          }
        }
      ]
    },
    {
      "cell_type": "markdown",
      "metadata": {
        "id": "r6MpcL58lkm-"
      },
      "source": [
        "### CNN Approach"
      ]
    },
    {
      "cell_type": "code",
      "metadata": {
        "id": "BSkc42kabGfA"
      },
      "source": [
        "# ADD NEW DIMENSIONS\n",
        "X_train = X_train[:,:,np.newaxis]\n",
        "X_test = X_test[:,:,np.newaxis]\n",
        "X_validation = X_validation[:,:,np.newaxis]"
      ],
      "execution_count": 29,
      "outputs": []
    },
    {
      "cell_type": "code",
      "metadata": {
        "id": "T4OcYS0RlrU4",
        "outputId": "166de904-8fdf-4241-bbf9-54f60c751723",
        "colab": {
          "base_uri": "https://localhost:8080/"
        }
      },
      "source": [
        "print(X_train.shape)\n",
        "print(X_test.shape)\n",
        "print(X_validation.shape)"
      ],
      "execution_count": 30,
      "outputs": [
        {
          "output_type": "stream",
          "name": "stdout",
          "text": [
            "(921, 1049, 1)\n",
            "(288, 1049, 1)\n",
            "(231, 1049, 1)\n"
          ]
        }
      ]
    },
    {
      "cell_type": "code",
      "metadata": {
        "id": "Apyr3-LSlzG0",
        "outputId": "379c1f1c-8a6f-426e-c922-6c0cad63029c",
        "colab": {
          "base_uri": "https://localhost:8080/"
        }
      },
      "source": [
        "# BUILD 1D CNN LAYERS\n",
        "model_cnn = tf.keras.Sequential()\n",
        "model_cnn.add(Conv1D(64, kernel_size=(10), activation='relu', input_shape=(X_train.shape[1],1)))\n",
        "model_cnn.add(Conv1D(128, kernel_size=(10),activation='relu',kernel_regularizer=l2(0.01), bias_regularizer=l2(0.01)))\n",
        "model_cnn.add(MaxPooling1D(pool_size=(8)))\n",
        "model_cnn.add(Dropout(0.4))\n",
        "model_cnn.add(Conv1D(128, kernel_size=(10),activation='relu'))\n",
        "model_cnn.add(MaxPooling1D(pool_size=(8)))\n",
        "model_cnn.add(Dropout(0.4))\n",
        "model_cnn.add(Flatten())\n",
        "model_cnn.add(Dense(256, activation='relu'))\n",
        "model_cnn.add(Dropout(0.4))\n",
        "model_cnn.add(Dense(8, activation='sigmoid'))\n",
        "opt = keras.optimizers.Adam(learning_rate=0.001)\n",
        "model_cnn.compile(loss='categorical_crossentropy', optimizer=opt,metrics=['accuracy'])\n",
        "model_cnn.summary()"
      ],
      "execution_count": 31,
      "outputs": [
        {
          "output_type": "stream",
          "name": "stdout",
          "text": [
            "Model: \"sequential_1\"\n",
            "_________________________________________________________________\n",
            " Layer (type)                Output Shape              Param #   \n",
            "=================================================================\n",
            " conv1d (Conv1D)             (None, 1040, 64)          704       \n",
            "                                                                 \n",
            " conv1d_1 (Conv1D)           (None, 1031, 128)         82048     \n",
            "                                                                 \n",
            " max_pooling1d (MaxPooling1D  (None, 128, 128)         0         \n",
            " )                                                               \n",
            "                                                                 \n",
            " dropout_2 (Dropout)         (None, 128, 128)          0         \n",
            "                                                                 \n",
            " conv1d_2 (Conv1D)           (None, 119, 128)          163968    \n",
            "                                                                 \n",
            " max_pooling1d_1 (MaxPooling  (None, 14, 128)          0         \n",
            " 1D)                                                             \n",
            "                                                                 \n",
            " dropout_3 (Dropout)         (None, 14, 128)           0         \n",
            "                                                                 \n",
            " flatten (Flatten)           (None, 1792)              0         \n",
            "                                                                 \n",
            " dense_3 (Dense)             (None, 256)               459008    \n",
            "                                                                 \n",
            " dropout_4 (Dropout)         (None, 256)               0         \n",
            "                                                                 \n",
            " dense_4 (Dense)             (None, 8)                 2056      \n",
            "                                                                 \n",
            "=================================================================\n",
            "Total params: 707,784\n",
            "Trainable params: 707,784\n",
            "Non-trainable params: 0\n",
            "_________________________________________________________________\n"
          ]
        }
      ]
    },
    {
      "cell_type": "code",
      "metadata": {
        "id": "tr7tm7Y1mRWk",
        "outputId": "b64bff0d-c74b-4f4a-d792-b1cd8a77e8ff",
        "colab": {
          "base_uri": "https://localhost:8080/"
        }
      },
      "source": [
        "cnn_model_history = model_cnn.fit(X_train, y_train,batch_size=32, epochs=100, validation_data=(X_test, y_test), callbacks=[early_stop])"
      ],
      "execution_count": 32,
      "outputs": [
        {
          "output_type": "stream",
          "name": "stdout",
          "text": [
            "Epoch 1/100\n",
            "29/29 [==============================] - 9s 28ms/step - loss: 2.6954 - accuracy: 0.2030 - val_loss: 2.2860 - val_accuracy: 0.3681\n",
            "Epoch 2/100\n",
            "29/29 [==============================] - 0s 11ms/step - loss: 2.1418 - accuracy: 0.3312 - val_loss: 1.9038 - val_accuracy: 0.4028\n",
            "Epoch 3/100\n",
            "29/29 [==============================] - 0s 12ms/step - loss: 1.8438 - accuracy: 0.3702 - val_loss: 1.7691 - val_accuracy: 0.3958\n",
            "Epoch 4/100\n",
            "29/29 [==============================] - 0s 12ms/step - loss: 1.6891 - accuracy: 0.3974 - val_loss: 1.6649 - val_accuracy: 0.3958\n",
            "Epoch 5/100\n",
            "29/29 [==============================] - 0s 12ms/step - loss: 1.5790 - accuracy: 0.4430 - val_loss: 1.5977 - val_accuracy: 0.4549\n",
            "Epoch 6/100\n",
            "29/29 [==============================] - 0s 11ms/step - loss: 1.5124 - accuracy: 0.4506 - val_loss: 1.5636 - val_accuracy: 0.4097\n",
            "Epoch 7/100\n",
            "29/29 [==============================] - 0s 12ms/step - loss: 1.4624 - accuracy: 0.4691 - val_loss: 1.4954 - val_accuracy: 0.4757\n",
            "Epoch 8/100\n",
            "29/29 [==============================] - 0s 11ms/step - loss: 1.4288 - accuracy: 0.4647 - val_loss: 1.4939 - val_accuracy: 0.4896\n",
            "Epoch 9/100\n",
            "29/29 [==============================] - 0s 12ms/step - loss: 1.3772 - accuracy: 0.4973 - val_loss: 1.4593 - val_accuracy: 0.4618\n",
            "Epoch 10/100\n",
            "29/29 [==============================] - 0s 12ms/step - loss: 1.3441 - accuracy: 0.5071 - val_loss: 1.3964 - val_accuracy: 0.5000\n",
            "Epoch 11/100\n",
            "29/29 [==============================] - 0s 11ms/step - loss: 1.2923 - accuracy: 0.5255 - val_loss: 1.4234 - val_accuracy: 0.4965\n",
            "Epoch 12/100\n",
            "29/29 [==============================] - 0s 11ms/step - loss: 1.2784 - accuracy: 0.5494 - val_loss: 1.3725 - val_accuracy: 0.5347\n",
            "Epoch 13/100\n",
            "29/29 [==============================] - 0s 11ms/step - loss: 1.2038 - accuracy: 0.5494 - val_loss: 1.4066 - val_accuracy: 0.4965\n",
            "Epoch 14/100\n",
            "29/29 [==============================] - 0s 12ms/step - loss: 1.1960 - accuracy: 0.5776 - val_loss: 1.3738 - val_accuracy: 0.4965\n",
            "Epoch 15/100\n",
            "29/29 [==============================] - 0s 11ms/step - loss: 1.1413 - accuracy: 0.5722 - val_loss: 1.3912 - val_accuracy: 0.4826\n",
            "Epoch 16/100\n",
            "29/29 [==============================] - 0s 12ms/step - loss: 1.1509 - accuracy: 0.5798 - val_loss: 1.3207 - val_accuracy: 0.5208\n",
            "Epoch 17/100\n",
            "29/29 [==============================] - 0s 11ms/step - loss: 1.0696 - accuracy: 0.6059 - val_loss: 1.3183 - val_accuracy: 0.5451\n",
            "Epoch 18/100\n",
            "29/29 [==============================] - 0s 11ms/step - loss: 1.0084 - accuracy: 0.6243 - val_loss: 1.3188 - val_accuracy: 0.5312\n",
            "Epoch 19/100\n",
            "29/29 [==============================] - 0s 11ms/step - loss: 0.9978 - accuracy: 0.6428 - val_loss: 1.3442 - val_accuracy: 0.5208\n",
            "Epoch 20/100\n",
            "29/29 [==============================] - 0s 11ms/step - loss: 0.9662 - accuracy: 0.6569 - val_loss: 1.3498 - val_accuracy: 0.5243\n",
            "Epoch 21/100\n",
            "29/29 [==============================] - 0s 11ms/step - loss: 0.9598 - accuracy: 0.6493 - val_loss: 1.2613 - val_accuracy: 0.5625\n",
            "Epoch 22/100\n",
            "29/29 [==============================] - 0s 11ms/step - loss: 0.8973 - accuracy: 0.6699 - val_loss: 1.2524 - val_accuracy: 0.5833\n",
            "Epoch 23/100\n",
            "29/29 [==============================] - 0s 11ms/step - loss: 0.8840 - accuracy: 0.7025 - val_loss: 1.2946 - val_accuracy: 0.5382\n",
            "Epoch 24/100\n",
            "29/29 [==============================] - 0s 12ms/step - loss: 0.8458 - accuracy: 0.6895 - val_loss: 1.3248 - val_accuracy: 0.5486\n",
            "Epoch 25/100\n",
            "29/29 [==============================] - 0s 11ms/step - loss: 0.7882 - accuracy: 0.7123 - val_loss: 1.3323 - val_accuracy: 0.5729\n",
            "Epoch 26/100\n",
            "29/29 [==============================] - 0s 12ms/step - loss: 0.7586 - accuracy: 0.7318 - val_loss: 1.3299 - val_accuracy: 0.5625\n",
            "Epoch 27/100\n",
            "29/29 [==============================] - 0s 13ms/step - loss: 0.7674 - accuracy: 0.7340 - val_loss: 1.2980 - val_accuracy: 0.5556\n",
            "Epoch 28/100\n",
            "29/29 [==============================] - 0s 12ms/step - loss: 0.7127 - accuracy: 0.7470 - val_loss: 1.3595 - val_accuracy: 0.5521\n",
            "Epoch 29/100\n",
            "29/29 [==============================] - 0s 11ms/step - loss: 0.7142 - accuracy: 0.7611 - val_loss: 1.3280 - val_accuracy: 0.5590\n",
            "Epoch 30/100\n",
            "29/29 [==============================] - 0s 11ms/step - loss: 0.6313 - accuracy: 0.7676 - val_loss: 1.4201 - val_accuracy: 0.5486\n",
            "Epoch 31/100\n",
            "29/29 [==============================] - 0s 11ms/step - loss: 0.6157 - accuracy: 0.7980 - val_loss: 1.3663 - val_accuracy: 0.5521\n",
            "Epoch 32/100\n",
            "29/29 [==============================] - 0s 11ms/step - loss: 0.6145 - accuracy: 0.7948 - val_loss: 1.3887 - val_accuracy: 0.5729\n",
            "Epoch 33/100\n",
            "29/29 [==============================] - 0s 12ms/step - loss: 0.6402 - accuracy: 0.7828 - val_loss: 1.3560 - val_accuracy: 0.6076\n",
            "Epoch 34/100\n",
            "29/29 [==============================] - 0s 13ms/step - loss: 0.5903 - accuracy: 0.8046 - val_loss: 1.3696 - val_accuracy: 0.5729\n",
            "Epoch 35/100\n",
            "29/29 [==============================] - 0s 11ms/step - loss: 0.5820 - accuracy: 0.7991 - val_loss: 1.3868 - val_accuracy: 0.5938\n",
            "Epoch 36/100\n",
            "29/29 [==============================] - 0s 12ms/step - loss: 0.5406 - accuracy: 0.8198 - val_loss: 1.3298 - val_accuracy: 0.5868\n",
            "Epoch 37/100\n",
            "29/29 [==============================] - 0s 11ms/step - loss: 0.5672 - accuracy: 0.8111 - val_loss: 1.4325 - val_accuracy: 0.6181\n"
          ]
        }
      ]
    },
    {
      "cell_type": "code",
      "metadata": {
        "id": "72wgHtkpmm0a",
        "outputId": "32ec69f8-78c5-470a-cd0a-3e46199cdec2",
        "colab": {
          "base_uri": "https://localhost:8080/"
        }
      },
      "source": [
        "model_cnn.evaluate(X_test, y_test)"
      ],
      "execution_count": 33,
      "outputs": [
        {
          "output_type": "stream",
          "name": "stdout",
          "text": [
            "9/9 [==============================] - 0s 6ms/step - loss: 1.4325 - accuracy: 0.6181\n"
          ]
        },
        {
          "output_type": "execute_result",
          "data": {
            "text/plain": [
              "[1.4324679374694824, 0.6180555820465088]"
            ]
          },
          "metadata": {},
          "execution_count": 33
        }
      ]
    },
    {
      "cell_type": "code",
      "metadata": {
        "id": "J4LO1xuAoZXM",
        "outputId": "b674b66c-edb6-4d25-daee-a970c39f4a48",
        "colab": {
          "base_uri": "https://localhost:8080/",
          "height": 530
        }
      },
      "source": [
        "metrics = pd.DataFrame(cnn_model_history.history)\n",
        "metrics[['accuracy', 'val_accuracy']].plot()\n",
        "metrics[['loss', 'val_loss']].plot()"
      ],
      "execution_count": 34,
      "outputs": [
        {
          "output_type": "execute_result",
          "data": {
            "text/plain": [
              "<matplotlib.axes._subplots.AxesSubplot at 0x7f6243010950>"
            ]
          },
          "metadata": {},
          "execution_count": 34
        },
        {
          "output_type": "display_data",
          "data": {
            "text/plain": [
              "<Figure size 432x288 with 1 Axes>"
            ],
            "image/png": "[encoded data removed]"
          },
          "metadata": {
            "needs_background": "light"
          }
        },
        {
          "output_type": "display_data",
          "data": {
            "text/plain": [
              "<Figure size 432x288 with 1 Axes>"
            ],
            "image/png": "[encoded data removed]"
          },
          "metadata": {
            "needs_background": "light"
          }
        }
      ]
    },
    {
      "cell_type": "code",
      "source": [
        "model_cnn_pred = model_cnn.predict(X_test)\n",
        "type(model_cnn_pred)"
      ],
      "metadata": {
        "id": "N9S79siNqy1C",
        "outputId": "b5de7493-5260-4a13-f51e-ad80ffddc7dc",
        "colab": {
          "base_uri": "https://localhost:8080/"
        }
      },
      "execution_count": 39,
      "outputs": [
        {
          "output_type": "execute_result",
          "data": {
            "text/plain": [
              "numpy.ndarray"
            ]
          },
          "metadata": {},
          "execution_count": 39
        }
      ]
    },
    {
      "cell_type": "code",
      "source": [
        "y_test"
      ],
      "metadata": {
        "id": "MSageXa8tl-l",
        "outputId": "c622ac3e-1fc9-469f-aaaf-9913a09f87aa",
        "colab": {
          "base_uri": "https://localhost:8080/"
        }
      },
      "execution_count": 40,
      "outputs": [
        {
          "output_type": "execute_result",
          "data": {
            "text/plain": [
              "array([[0., 0., 1., ..., 0., 0., 0.],\n",
              "       [0., 0., 1., ..., 0., 0., 0.],\n",
              "       [0., 0., 0., ..., 1., 0., 0.],\n",
              "       ...,\n",
              "       [0., 1., 0., ..., 0., 0., 0.],\n",
              "       [0., 0., 0., ..., 0., 0., 0.],\n",
              "       [0., 0., 0., ..., 0., 0., 0.]], dtype=float32)"
            ]
          },
          "metadata": {},
          "execution_count": 40
        }
      ]
    },
    {
      "cell_type": "code",
      "source": [
        "y_pred = np.argmax(model_cnn_pred, axis=1)\n",
        "y_test = np.argmax(y_test, axis=1)"
      ],
      "metadata": {
        "id": "btBQzA63t_FP"
      },
      "execution_count": 42,
      "outputs": []
    },
    {
      "cell_type": "code",
      "source": [
        "cm = confusion_matrix(y_test, y_pred)"
      ],
      "metadata": {
        "id": "GSQyjZUUtutJ"
      },
      "execution_count": 43,
      "outputs": []
    },
    {
      "cell_type": "code",
      "source": [
        "plt.figure(figsize=(5,4))\n",
        "sns.heatmap(cm, annot=True, fmt='d')\n",
        "plt.title('Confusion Matrix for the CNN Model')\n",
        "plt.ylabel('Actal Values')\n",
        "plt.xlabel('Predicted Values')\n",
        "plt.show()\n",
        "\n",
        "# f = sns.heatmap(cm, annot=True, fmt='d')"
      ],
      "metadata": {
        "id": "Z1doiqV8t2uZ",
        "outputId": "639cfea4-df40-4e13-c63e-8777828eadf0",
        "colab": {
          "base_uri": "https://localhost:8080/",
          "height": 295
        }
      },
      "execution_count": 46,
      "outputs": [
        {
          "output_type": "display_data",
          "data": {
            "text/plain": [
              "<Figure size 360x288 with 2 Axes>"
            ],
            "image/png": "[encoded data removed]"
          },
          "metadata": {
            "needs_background": "light"
          }
        }
      ]
    },
    {
      "cell_type": "code",
      "source": [
        ""
      ],
      "metadata": {
        "id": "26DReO3JuX86"
      },
      "execution_count": null,
      "outputs": []
    }
  ]
}